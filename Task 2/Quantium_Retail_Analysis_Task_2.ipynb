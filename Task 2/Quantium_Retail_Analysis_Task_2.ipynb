{
  "nbformat": 4,
  "nbformat_minor": 0,
  "metadata": {
    "colab": {
      "name": "Quantium Retail Analysis  Task 2",
      "provenance": []
    },
    "kernelspec": {
      "name": "python3",
      "display_name": "Python 3"
    },
    "language_info": {
      "name": "python"
    }
  },
  "cells": [
    {
      "cell_type": "markdown",
      "metadata": {
        "id": "LNgBj6fcQSn9"
      },
      "source": [
        "# **Quantium's Virtual Internship  - TASK 2**"
      ]
    },
    {
      "cell_type": "markdown",
      "metadata": {
        "id": "kRaynHUlQSk9"
      },
      "source": [
        "First of all let us understand the problem statement:\n",
        "\n",
        "  *  A dataset of a retail store has been given, The dataset consits of various factores like Loyalty Card Number, Date, Store Number, Transaction ID, Product Number, Product Name, Product Quantity, Total Sales, Pack Size, Brand, LifeStage, Premium Customers.\n",
        "\n",
        "\n",
        "  *   So the retail store has launched New Trial Stores with an new layout ==> **77,86,88**.\n",
        "\n",
        "  *  The Task is to find is trial store has made many impact on the customers shopping and total number of sales. The trial store period starts from February **2018 to April 2019.**\n",
        "\n",
        "  *  With the given data we need to get the total number of Customers visited in Trial Stores, Control Stores, Other Stores and Total number of Products sold in Trial, Contol, Other Stores \n",
        "\n",
        "  *  To find the control stores we need to get the **highest correlation** to the trial store, In such way we can get a trial store.\n"
      ]
    },
    {
      "cell_type": "markdown",
      "metadata": {
        "id": "U2N3sy68Tf6J"
      },
      "source": [
        "# **Finding the Control Store**"
      ]
    },
    {
      "cell_type": "markdown",
      "metadata": {
        "id": "_i4RZFILTtg3"
      },
      "source": [
        "### **Importing Libraries**"
      ]
    },
    {
      "cell_type": "code",
      "metadata": {
        "id": "umzXcG_qQPLc"
      },
      "source": [
        "import pandas as pd\n",
        "import matplotlib.pyplot as plt\n",
        "import seaborn as sns\n",
        "from datetime import date\n",
        "from dateutil.rrule import rrule, DAILY\n",
        "import numpy as np\n",
        "import re\n",
        "import math\n",
        "\n",
        "%matplotlib inline\n",
        "plt.rcParams['figure.figsize'] = (18,6)\n",
        "pd.pandas.set_option('display.max_columns',None)"
      ],
      "execution_count": 1,
      "outputs": []
    },
    {
      "cell_type": "code",
      "metadata": {
        "colab": {
          "base_uri": "https://localhost:8080/",
          "height": 203
        },
        "id": "z1VEFY-MQTio",
        "outputId": "a3baed54-0182-4748-af60-8df6cce07259"
      },
      "source": [
        "df = pd.read_csv(\"QVI_data.csv\")\n",
        "df.head()"
      ],
      "execution_count": 2,
      "outputs": [
        {
          "output_type": "execute_result",
          "data": {
            "text/html": [
              "<div>\n",
              "<style scoped>\n",
              "    .dataframe tbody tr th:only-of-type {\n",
              "        vertical-align: middle;\n",
              "    }\n",
              "\n",
              "    .dataframe tbody tr th {\n",
              "        vertical-align: top;\n",
              "    }\n",
              "\n",
              "    .dataframe thead th {\n",
              "        text-align: right;\n",
              "    }\n",
              "</style>\n",
              "<table border=\"1\" class=\"dataframe\">\n",
              "  <thead>\n",
              "    <tr style=\"text-align: right;\">\n",
              "      <th></th>\n",
              "      <th>LYLTY_CARD_NBR</th>\n",
              "      <th>DATE</th>\n",
              "      <th>STORE_NBR</th>\n",
              "      <th>TXN_ID</th>\n",
              "      <th>PROD_NBR</th>\n",
              "      <th>PROD_NAME</th>\n",
              "      <th>PROD_QTY</th>\n",
              "      <th>TOT_SALES</th>\n",
              "      <th>PACK_SIZE</th>\n",
              "      <th>BRAND</th>\n",
              "      <th>LIFESTAGE</th>\n",
              "      <th>PREMIUM_CUSTOMER</th>\n",
              "    </tr>\n",
              "  </thead>\n",
              "  <tbody>\n",
              "    <tr>\n",
              "      <th>0</th>\n",
              "      <td>1000</td>\n",
              "      <td>2018-10-17</td>\n",
              "      <td>1</td>\n",
              "      <td>1</td>\n",
              "      <td>5</td>\n",
              "      <td>Natural Chip        Compny SeaSalt175g</td>\n",
              "      <td>2</td>\n",
              "      <td>6.0</td>\n",
              "      <td>175</td>\n",
              "      <td>NATURAL</td>\n",
              "      <td>YOUNG SINGLES/COUPLES</td>\n",
              "      <td>Premium</td>\n",
              "    </tr>\n",
              "    <tr>\n",
              "      <th>1</th>\n",
              "      <td>1002</td>\n",
              "      <td>2018-09-16</td>\n",
              "      <td>1</td>\n",
              "      <td>2</td>\n",
              "      <td>58</td>\n",
              "      <td>Red Rock Deli Chikn&amp;Garlic Aioli 150g</td>\n",
              "      <td>1</td>\n",
              "      <td>2.7</td>\n",
              "      <td>150</td>\n",
              "      <td>RRD</td>\n",
              "      <td>YOUNG SINGLES/COUPLES</td>\n",
              "      <td>Mainstream</td>\n",
              "    </tr>\n",
              "    <tr>\n",
              "      <th>2</th>\n",
              "      <td>1003</td>\n",
              "      <td>2019-03-07</td>\n",
              "      <td>1</td>\n",
              "      <td>3</td>\n",
              "      <td>52</td>\n",
              "      <td>Grain Waves Sour    Cream&amp;Chives 210G</td>\n",
              "      <td>1</td>\n",
              "      <td>3.6</td>\n",
              "      <td>210</td>\n",
              "      <td>GRNWVES</td>\n",
              "      <td>YOUNG FAMILIES</td>\n",
              "      <td>Budget</td>\n",
              "    </tr>\n",
              "    <tr>\n",
              "      <th>3</th>\n",
              "      <td>1003</td>\n",
              "      <td>2019-03-08</td>\n",
              "      <td>1</td>\n",
              "      <td>4</td>\n",
              "      <td>106</td>\n",
              "      <td>Natural ChipCo      Hony Soy Chckn175g</td>\n",
              "      <td>1</td>\n",
              "      <td>3.0</td>\n",
              "      <td>175</td>\n",
              "      <td>NATURAL</td>\n",
              "      <td>YOUNG FAMILIES</td>\n",
              "      <td>Budget</td>\n",
              "    </tr>\n",
              "    <tr>\n",
              "      <th>4</th>\n",
              "      <td>1004</td>\n",
              "      <td>2018-11-02</td>\n",
              "      <td>1</td>\n",
              "      <td>5</td>\n",
              "      <td>96</td>\n",
              "      <td>WW Original Stacked Chips 160g</td>\n",
              "      <td>1</td>\n",
              "      <td>1.9</td>\n",
              "      <td>160</td>\n",
              "      <td>WOOLWORTHS</td>\n",
              "      <td>OLDER SINGLES/COUPLES</td>\n",
              "      <td>Mainstream</td>\n",
              "    </tr>\n",
              "  </tbody>\n",
              "</table>\n",
              "</div>"
            ],
            "text/plain": [
              "   LYLTY_CARD_NBR        DATE  STORE_NBR  TXN_ID  PROD_NBR  \\\n",
              "0            1000  2018-10-17          1       1         5   \n",
              "1            1002  2018-09-16          1       2        58   \n",
              "2            1003  2019-03-07          1       3        52   \n",
              "3            1003  2019-03-08          1       4       106   \n",
              "4            1004  2018-11-02          1       5        96   \n",
              "\n",
              "                                PROD_NAME  PROD_QTY  TOT_SALES  PACK_SIZE  \\\n",
              "0  Natural Chip        Compny SeaSalt175g         2        6.0        175   \n",
              "1   Red Rock Deli Chikn&Garlic Aioli 150g         1        2.7        150   \n",
              "2   Grain Waves Sour    Cream&Chives 210G         1        3.6        210   \n",
              "3  Natural ChipCo      Hony Soy Chckn175g         1        3.0        175   \n",
              "4          WW Original Stacked Chips 160g         1        1.9        160   \n",
              "\n",
              "        BRAND              LIFESTAGE PREMIUM_CUSTOMER  \n",
              "0     NATURAL  YOUNG SINGLES/COUPLES          Premium  \n",
              "1         RRD  YOUNG SINGLES/COUPLES       Mainstream  \n",
              "2     GRNWVES         YOUNG FAMILIES           Budget  \n",
              "3     NATURAL         YOUNG FAMILIES           Budget  \n",
              "4  WOOLWORTHS  OLDER SINGLES/COUPLES       Mainstream  "
            ]
          },
          "metadata": {},
          "execution_count": 2
        }
      ]
    },
    {
      "cell_type": "markdown",
      "metadata": {
        "id": "wZXFILXRT5KR"
      },
      "source": [
        "### **Exploratory Data Analysis**"
      ]
    },
    {
      "cell_type": "code",
      "metadata": {
        "colab": {
          "base_uri": "https://localhost:8080/"
        },
        "id": "I-rZ_lBMQTgC",
        "outputId": "da41f1f5-f45c-48fd-beed-4a3713262fa2"
      },
      "source": [
        "df.shape"
      ],
      "execution_count": 3,
      "outputs": [
        {
          "output_type": "execute_result",
          "data": {
            "text/plain": [
              "(264834, 12)"
            ]
          },
          "metadata": {},
          "execution_count": 3
        }
      ]
    },
    {
      "cell_type": "code",
      "metadata": {
        "colab": {
          "base_uri": "https://localhost:8080/"
        },
        "id": "TEht7QWGvyYK",
        "outputId": "ecb54398-c370-4c79-cc13-18b31dfa7460"
      },
      "source": [
        "df.info()"
      ],
      "execution_count": 4,
      "outputs": [
        {
          "output_type": "stream",
          "name": "stdout",
          "text": [
            "<class 'pandas.core.frame.DataFrame'>\n",
            "RangeIndex: 264834 entries, 0 to 264833\n",
            "Data columns (total 12 columns):\n",
            " #   Column            Non-Null Count   Dtype  \n",
            "---  ------            --------------   -----  \n",
            " 0   LYLTY_CARD_NBR    264834 non-null  int64  \n",
            " 1   DATE              264834 non-null  object \n",
            " 2   STORE_NBR         264834 non-null  int64  \n",
            " 3   TXN_ID            264834 non-null  int64  \n",
            " 4   PROD_NBR          264834 non-null  int64  \n",
            " 5   PROD_NAME         264834 non-null  object \n",
            " 6   PROD_QTY          264834 non-null  int64  \n",
            " 7   TOT_SALES         264834 non-null  float64\n",
            " 8   PACK_SIZE         264834 non-null  int64  \n",
            " 9   BRAND             264834 non-null  object \n",
            " 10  LIFESTAGE         264834 non-null  object \n",
            " 11  PREMIUM_CUSTOMER  264834 non-null  object \n",
            "dtypes: float64(1), int64(6), object(5)\n",
            "memory usage: 24.2+ MB\n"
          ]
        }
      ]
    },
    {
      "cell_type": "code",
      "metadata": {
        "colab": {
          "base_uri": "https://localhost:8080/"
        },
        "id": "Fj8fW3z5vySX",
        "outputId": "b8a7fb3f-92eb-40d3-f067-6eff3a1bb63b"
      },
      "source": [
        "df.isnull().sum()"
      ],
      "execution_count": 5,
      "outputs": [
        {
          "output_type": "execute_result",
          "data": {
            "text/plain": [
              "LYLTY_CARD_NBR      0\n",
              "DATE                0\n",
              "STORE_NBR           0\n",
              "TXN_ID              0\n",
              "PROD_NBR            0\n",
              "PROD_NAME           0\n",
              "PROD_QTY            0\n",
              "TOT_SALES           0\n",
              "PACK_SIZE           0\n",
              "BRAND               0\n",
              "LIFESTAGE           0\n",
              "PREMIUM_CUSTOMER    0\n",
              "dtype: int64"
            ]
          },
          "metadata": {},
          "execution_count": 5
        }
      ]
    },
    {
      "cell_type": "markdown",
      "metadata": {
        "id": "8TRow9iGgaJp"
      },
      "source": [
        "#####  **Adding a new month ID column in the data with the format yyyymm**"
      ]
    },
    {
      "cell_type": "code",
      "metadata": {
        "colab": {
          "base_uri": "https://localhost:8080/",
          "height": 287
        },
        "id": "61KsDtcogWVL",
        "outputId": "a8b375db-ce9c-4d3f-ab0b-54354055fb2b"
      },
      "source": [
        "df[\"YM_ID\"] = [\"\".join(x.split(\"-\")[0:2]) for x in df[\"DATE\"]]\n",
        "df.head()"
      ],
      "execution_count": 6,
      "outputs": [
        {
          "output_type": "execute_result",
          "data": {
            "text/html": [
              "<div>\n",
              "<style scoped>\n",
              "    .dataframe tbody tr th:only-of-type {\n",
              "        vertical-align: middle;\n",
              "    }\n",
              "\n",
              "    .dataframe tbody tr th {\n",
              "        vertical-align: top;\n",
              "    }\n",
              "\n",
              "    .dataframe thead th {\n",
              "        text-align: right;\n",
              "    }\n",
              "</style>\n",
              "<table border=\"1\" class=\"dataframe\">\n",
              "  <thead>\n",
              "    <tr style=\"text-align: right;\">\n",
              "      <th></th>\n",
              "      <th>LYLTY_CARD_NBR</th>\n",
              "      <th>DATE</th>\n",
              "      <th>STORE_NBR</th>\n",
              "      <th>TXN_ID</th>\n",
              "      <th>PROD_NBR</th>\n",
              "      <th>PROD_NAME</th>\n",
              "      <th>PROD_QTY</th>\n",
              "      <th>TOT_SALES</th>\n",
              "      <th>PACK_SIZE</th>\n",
              "      <th>BRAND</th>\n",
              "      <th>LIFESTAGE</th>\n",
              "      <th>PREMIUM_CUSTOMER</th>\n",
              "      <th>YM_ID</th>\n",
              "    </tr>\n",
              "  </thead>\n",
              "  <tbody>\n",
              "    <tr>\n",
              "      <th>0</th>\n",
              "      <td>1000</td>\n",
              "      <td>2018-10-17</td>\n",
              "      <td>1</td>\n",
              "      <td>1</td>\n",
              "      <td>5</td>\n",
              "      <td>Natural Chip        Compny SeaSalt175g</td>\n",
              "      <td>2</td>\n",
              "      <td>6.0</td>\n",
              "      <td>175</td>\n",
              "      <td>NATURAL</td>\n",
              "      <td>YOUNG SINGLES/COUPLES</td>\n",
              "      <td>Premium</td>\n",
              "      <td>201810</td>\n",
              "    </tr>\n",
              "    <tr>\n",
              "      <th>1</th>\n",
              "      <td>1002</td>\n",
              "      <td>2018-09-16</td>\n",
              "      <td>1</td>\n",
              "      <td>2</td>\n",
              "      <td>58</td>\n",
              "      <td>Red Rock Deli Chikn&amp;Garlic Aioli 150g</td>\n",
              "      <td>1</td>\n",
              "      <td>2.7</td>\n",
              "      <td>150</td>\n",
              "      <td>RRD</td>\n",
              "      <td>YOUNG SINGLES/COUPLES</td>\n",
              "      <td>Mainstream</td>\n",
              "      <td>201809</td>\n",
              "    </tr>\n",
              "    <tr>\n",
              "      <th>2</th>\n",
              "      <td>1003</td>\n",
              "      <td>2019-03-07</td>\n",
              "      <td>1</td>\n",
              "      <td>3</td>\n",
              "      <td>52</td>\n",
              "      <td>Grain Waves Sour    Cream&amp;Chives 210G</td>\n",
              "      <td>1</td>\n",
              "      <td>3.6</td>\n",
              "      <td>210</td>\n",
              "      <td>GRNWVES</td>\n",
              "      <td>YOUNG FAMILIES</td>\n",
              "      <td>Budget</td>\n",
              "      <td>201903</td>\n",
              "    </tr>\n",
              "    <tr>\n",
              "      <th>3</th>\n",
              "      <td>1003</td>\n",
              "      <td>2019-03-08</td>\n",
              "      <td>1</td>\n",
              "      <td>4</td>\n",
              "      <td>106</td>\n",
              "      <td>Natural ChipCo      Hony Soy Chckn175g</td>\n",
              "      <td>1</td>\n",
              "      <td>3.0</td>\n",
              "      <td>175</td>\n",
              "      <td>NATURAL</td>\n",
              "      <td>YOUNG FAMILIES</td>\n",
              "      <td>Budget</td>\n",
              "      <td>201903</td>\n",
              "    </tr>\n",
              "    <tr>\n",
              "      <th>4</th>\n",
              "      <td>1004</td>\n",
              "      <td>2018-11-02</td>\n",
              "      <td>1</td>\n",
              "      <td>5</td>\n",
              "      <td>96</td>\n",
              "      <td>WW Original Stacked Chips 160g</td>\n",
              "      <td>1</td>\n",
              "      <td>1.9</td>\n",
              "      <td>160</td>\n",
              "      <td>WOOLWORTHS</td>\n",
              "      <td>OLDER SINGLES/COUPLES</td>\n",
              "      <td>Mainstream</td>\n",
              "      <td>201811</td>\n",
              "    </tr>\n",
              "  </tbody>\n",
              "</table>\n",
              "</div>"
            ],
            "text/plain": [
              "   LYLTY_CARD_NBR        DATE  STORE_NBR  TXN_ID  PROD_NBR  \\\n",
              "0            1000  2018-10-17          1       1         5   \n",
              "1            1002  2018-09-16          1       2        58   \n",
              "2            1003  2019-03-07          1       3        52   \n",
              "3            1003  2019-03-08          1       4       106   \n",
              "4            1004  2018-11-02          1       5        96   \n",
              "\n",
              "                                PROD_NAME  PROD_QTY  TOT_SALES  PACK_SIZE  \\\n",
              "0  Natural Chip        Compny SeaSalt175g         2        6.0        175   \n",
              "1   Red Rock Deli Chikn&Garlic Aioli 150g         1        2.7        150   \n",
              "2   Grain Waves Sour    Cream&Chives 210G         1        3.6        210   \n",
              "3  Natural ChipCo      Hony Soy Chckn175g         1        3.0        175   \n",
              "4          WW Original Stacked Chips 160g         1        1.9        160   \n",
              "\n",
              "        BRAND              LIFESTAGE PREMIUM_CUSTOMER   YM_ID  \n",
              "0     NATURAL  YOUNG SINGLES/COUPLES          Premium  201810  \n",
              "1         RRD  YOUNG SINGLES/COUPLES       Mainstream  201809  \n",
              "2     GRNWVES         YOUNG FAMILIES           Budget  201903  \n",
              "3     NATURAL         YOUNG FAMILIES           Budget  201903  \n",
              "4  WOOLWORTHS  OLDER SINGLES/COUPLES       Mainstream  201811  "
            ]
          },
          "metadata": {},
          "execution_count": 6
        }
      ]
    },
    {
      "cell_type": "markdown",
      "metadata": {
        "id": "OrhskI81kQVp"
      },
      "source": [
        "**Calculating For each store and month calculate:**\n",
        "\n",
        "  * Total Sales\n",
        "\n",
        "  * Number of Customers\n",
        "\n",
        "  * Transactions Per Customer \n",
        "\n",
        "  * Chips Per Customer \n",
        "  \n",
        "  * Average Price Per Unit"
      ]
    },
    {
      "cell_type": "code",
      "metadata": {
        "id": "4dP4QY0RgWST"
      },
      "source": [
        "total_sales = df.groupby([\"STORE_NBR\",\"YM_ID\"])[\"TOT_SALES\"].sum() # Total Sales\n",
        "\n",
        "numb_cust = df.groupby([\"STORE_NBR\",\"YM_ID\"])[\"LYLTY_CARD_NBR\"].nunique() # Number of Customers\n",
        "\n",
        "tnx_per_cust = df.groupby([\"STORE_NBR\",\"YM_ID\"])[\"TXN_ID\"].nunique() / numb_cust # Transaction per Customer\n",
        "\n",
        "chips_per_cust = df.groupby([\"STORE_NBR\",\"YM_ID\"])[\"PROD_QTY\"].sum() / df.groupby([\"STORE_NBR\",\"YM_ID\"])[\"TXN_ID\"].nunique()  # Chips per Customer\n",
        "\n",
        "avg_price_unit = df.groupby([\"STORE_NBR\",\"YM_ID\"])[\"TOT_SALES\"].sum() /  df.groupby([\"STORE_NBR\",\"YM_ID\"])[\"PROD_QTY\"].sum() # Average Price per Unit"
      ],
      "execution_count": 7,
      "outputs": []
    },
    {
      "cell_type": "markdown",
      "metadata": {
        "id": "coro5RIHdEtf"
      },
      "source": [
        "##### **Creating a DataFrame measure**"
      ]
    },
    {
      "cell_type": "code",
      "metadata": {
        "colab": {
          "base_uri": "https://localhost:8080/",
          "height": 203
        },
        "id": "e8VPtNi826k-",
        "outputId": "709b4770-b5f1-4b81-c29b-98ed36bef8b1"
      },
      "source": [
        "store_month = [total_sales,numb_cust,tnx_per_cust, chips_per_cust, avg_price_unit]\n",
        "measure = pd.concat(store_month, join = \"outer\", axis = 1)\n",
        "measure.reset_index(inplace=True)\n",
        "measure.head()"
      ],
      "execution_count": 8,
      "outputs": [
        {
          "output_type": "execute_result",
          "data": {
            "text/html": [
              "<div>\n",
              "<style scoped>\n",
              "    .dataframe tbody tr th:only-of-type {\n",
              "        vertical-align: middle;\n",
              "    }\n",
              "\n",
              "    .dataframe tbody tr th {\n",
              "        vertical-align: top;\n",
              "    }\n",
              "\n",
              "    .dataframe thead th {\n",
              "        text-align: right;\n",
              "    }\n",
              "</style>\n",
              "<table border=\"1\" class=\"dataframe\">\n",
              "  <thead>\n",
              "    <tr style=\"text-align: right;\">\n",
              "      <th></th>\n",
              "      <th>STORE_NBR</th>\n",
              "      <th>YM_ID</th>\n",
              "      <th>TOT_SALES</th>\n",
              "      <th>LYLTY_CARD_NBR</th>\n",
              "      <th>0</th>\n",
              "      <th>1</th>\n",
              "      <th>2</th>\n",
              "    </tr>\n",
              "  </thead>\n",
              "  <tbody>\n",
              "    <tr>\n",
              "      <th>0</th>\n",
              "      <td>1</td>\n",
              "      <td>201807</td>\n",
              "      <td>206.9</td>\n",
              "      <td>49</td>\n",
              "      <td>1.061224</td>\n",
              "      <td>1.192308</td>\n",
              "      <td>3.337097</td>\n",
              "    </tr>\n",
              "    <tr>\n",
              "      <th>1</th>\n",
              "      <td>1</td>\n",
              "      <td>201808</td>\n",
              "      <td>176.1</td>\n",
              "      <td>42</td>\n",
              "      <td>1.023810</td>\n",
              "      <td>1.255814</td>\n",
              "      <td>3.261111</td>\n",
              "    </tr>\n",
              "    <tr>\n",
              "      <th>2</th>\n",
              "      <td>1</td>\n",
              "      <td>201809</td>\n",
              "      <td>278.8</td>\n",
              "      <td>59</td>\n",
              "      <td>1.050847</td>\n",
              "      <td>1.209677</td>\n",
              "      <td>3.717333</td>\n",
              "    </tr>\n",
              "    <tr>\n",
              "      <th>3</th>\n",
              "      <td>1</td>\n",
              "      <td>201810</td>\n",
              "      <td>188.1</td>\n",
              "      <td>44</td>\n",
              "      <td>1.022727</td>\n",
              "      <td>1.288889</td>\n",
              "      <td>3.243103</td>\n",
              "    </tr>\n",
              "    <tr>\n",
              "      <th>4</th>\n",
              "      <td>1</td>\n",
              "      <td>201811</td>\n",
              "      <td>192.6</td>\n",
              "      <td>46</td>\n",
              "      <td>1.021739</td>\n",
              "      <td>1.212766</td>\n",
              "      <td>3.378947</td>\n",
              "    </tr>\n",
              "  </tbody>\n",
              "</table>\n",
              "</div>"
            ],
            "text/plain": [
              "   STORE_NBR   YM_ID  TOT_SALES  LYLTY_CARD_NBR         0         1         2\n",
              "0          1  201807      206.9              49  1.061224  1.192308  3.337097\n",
              "1          1  201808      176.1              42  1.023810  1.255814  3.261111\n",
              "2          1  201809      278.8              59  1.050847  1.209677  3.717333\n",
              "3          1  201810      188.1              44  1.022727  1.288889  3.243103\n",
              "4          1  201811      192.6              46  1.021739  1.212766  3.378947"
            ]
          },
          "metadata": {},
          "execution_count": 8
        }
      ]
    },
    {
      "cell_type": "code",
      "metadata": {
        "colab": {
          "base_uri": "https://localhost:8080/",
          "height": 203
        },
        "id": "auTVbhkI8uc6",
        "outputId": "117e7524-972d-4eae-99ee-26fe2ed319e7"
      },
      "source": [
        "measure.rename(columns={\"STORE_NBR\": \"store_nbr\", \"YM_ID\":\"ym_id\",\"TOT_SALES\":\"tot_sales\",\"LYLTY_CARD_NBR\": \"customer\",0:\"tnx_per_cstm\",1:\"chips_per_cstm\",2:\"avg_price_unit\"},inplace=True)\n",
        "measure.head()"
      ],
      "execution_count": 9,
      "outputs": [
        {
          "output_type": "execute_result",
          "data": {
            "text/html": [
              "<div>\n",
              "<style scoped>\n",
              "    .dataframe tbody tr th:only-of-type {\n",
              "        vertical-align: middle;\n",
              "    }\n",
              "\n",
              "    .dataframe tbody tr th {\n",
              "        vertical-align: top;\n",
              "    }\n",
              "\n",
              "    .dataframe thead th {\n",
              "        text-align: right;\n",
              "    }\n",
              "</style>\n",
              "<table border=\"1\" class=\"dataframe\">\n",
              "  <thead>\n",
              "    <tr style=\"text-align: right;\">\n",
              "      <th></th>\n",
              "      <th>store_nbr</th>\n",
              "      <th>ym_id</th>\n",
              "      <th>tot_sales</th>\n",
              "      <th>customer</th>\n",
              "      <th>tnx_per_cstm</th>\n",
              "      <th>chips_per_cstm</th>\n",
              "      <th>avg_price_unit</th>\n",
              "    </tr>\n",
              "  </thead>\n",
              "  <tbody>\n",
              "    <tr>\n",
              "      <th>0</th>\n",
              "      <td>1</td>\n",
              "      <td>201807</td>\n",
              "      <td>206.9</td>\n",
              "      <td>49</td>\n",
              "      <td>1.061224</td>\n",
              "      <td>1.192308</td>\n",
              "      <td>3.337097</td>\n",
              "    </tr>\n",
              "    <tr>\n",
              "      <th>1</th>\n",
              "      <td>1</td>\n",
              "      <td>201808</td>\n",
              "      <td>176.1</td>\n",
              "      <td>42</td>\n",
              "      <td>1.023810</td>\n",
              "      <td>1.255814</td>\n",
              "      <td>3.261111</td>\n",
              "    </tr>\n",
              "    <tr>\n",
              "      <th>2</th>\n",
              "      <td>1</td>\n",
              "      <td>201809</td>\n",
              "      <td>278.8</td>\n",
              "      <td>59</td>\n",
              "      <td>1.050847</td>\n",
              "      <td>1.209677</td>\n",
              "      <td>3.717333</td>\n",
              "    </tr>\n",
              "    <tr>\n",
              "      <th>3</th>\n",
              "      <td>1</td>\n",
              "      <td>201810</td>\n",
              "      <td>188.1</td>\n",
              "      <td>44</td>\n",
              "      <td>1.022727</td>\n",
              "      <td>1.288889</td>\n",
              "      <td>3.243103</td>\n",
              "    </tr>\n",
              "    <tr>\n",
              "      <th>4</th>\n",
              "      <td>1</td>\n",
              "      <td>201811</td>\n",
              "      <td>192.6</td>\n",
              "      <td>46</td>\n",
              "      <td>1.021739</td>\n",
              "      <td>1.212766</td>\n",
              "      <td>3.378947</td>\n",
              "    </tr>\n",
              "  </tbody>\n",
              "</table>\n",
              "</div>"
            ],
            "text/plain": [
              "   store_nbr   ym_id  tot_sales  customer  tnx_per_cstm  chips_per_cstm  \\\n",
              "0          1  201807      206.9        49      1.061224        1.192308   \n",
              "1          1  201808      176.1        42      1.023810        1.255814   \n",
              "2          1  201809      278.8        59      1.050847        1.209677   \n",
              "3          1  201810      188.1        44      1.022727        1.288889   \n",
              "4          1  201811      192.6        46      1.021739        1.212766   \n",
              "\n",
              "   avg_price_unit  \n",
              "0        3.337097  \n",
              "1        3.261111  \n",
              "2        3.717333  \n",
              "3        3.243103  \n",
              "4        3.378947  "
            ]
          },
          "metadata": {},
          "execution_count": 9
        }
      ]
    },
    {
      "cell_type": "markdown",
      "metadata": {
        "id": "1SaLM-zudmEz"
      },
      "source": [
        "##### **Checking for incomplete observation**"
      ]
    },
    {
      "cell_type": "code",
      "metadata": {
        "colab": {
          "base_uri": "https://localhost:8080/"
        },
        "id": "W3IiLSI8fmqn",
        "outputId": "ffe46203-d98a-4231-dcc7-a973675cff56"
      },
      "source": [
        "incp_obs = pd.pivot_table(df, index = 'STORE_NBR', columns = 'YM_ID', values = 'TXN_ID', aggfunc = 'count')\n",
        "incp_obs.isnull().sum()"
      ],
      "execution_count": 10,
      "outputs": [
        {
          "output_type": "execute_result",
          "data": {
            "text/plain": [
              "YM_ID\n",
              "201807    6\n",
              "201808    9\n",
              "201809    8\n",
              "201810    7\n",
              "201811    8\n",
              "201812    9\n",
              "201901    9\n",
              "201902    8\n",
              "201903    7\n",
              "201904    7\n",
              "201905    9\n",
              "201906    8\n",
              "dtype: int64"
            ]
          },
          "metadata": {},
          "execution_count": 10
        }
      ]
    },
    {
      "cell_type": "code",
      "metadata": {
        "colab": {
          "base_uri": "https://localhost:8080/"
        },
        "id": "aKScjoQwiJPH",
        "outputId": "a0022b50-aa1d-4edd-c2bc-096b98ef15ca"
      },
      "source": [
        "[index for index, row in incp_obs.iterrows() if row.isnull().any()]"
      ],
      "execution_count": 11,
      "outputs": [
        {
          "output_type": "execute_result",
          "data": {
            "text/plain": [
              "[11, 31, 44, 76, 85, 92, 117, 193, 206, 211, 218, 252]"
            ]
          },
          "metadata": {},
          "execution_count": 11
        }
      ]
    },
    {
      "cell_type": "markdown",
      "metadata": {
        "id": "9rFjJ_KFjD50"
      },
      "source": [
        "##### **Dropping the Incomplete Observation Stores from measure**"
      ]
    },
    {
      "cell_type": "code",
      "metadata": {
        "colab": {
          "base_uri": "https://localhost:8080/",
          "height": 203
        },
        "id": "myuDp1pqjCCJ",
        "outputId": "3a45f30c-b612-4848-d970-45afb963814a"
      },
      "source": [
        "str_nbr = [11, 31, 44, 76, 85, 92, 117, 193, 206, 211, 218, 252]\n",
        "measure = measure[~measure[\"store_nbr\"].isin(str_nbr)]\n",
        "measure.head()"
      ],
      "execution_count": 12,
      "outputs": [
        {
          "output_type": "execute_result",
          "data": {
            "text/html": [
              "<div>\n",
              "<style scoped>\n",
              "    .dataframe tbody tr th:only-of-type {\n",
              "        vertical-align: middle;\n",
              "    }\n",
              "\n",
              "    .dataframe tbody tr th {\n",
              "        vertical-align: top;\n",
              "    }\n",
              "\n",
              "    .dataframe thead th {\n",
              "        text-align: right;\n",
              "    }\n",
              "</style>\n",
              "<table border=\"1\" class=\"dataframe\">\n",
              "  <thead>\n",
              "    <tr style=\"text-align: right;\">\n",
              "      <th></th>\n",
              "      <th>store_nbr</th>\n",
              "      <th>ym_id</th>\n",
              "      <th>tot_sales</th>\n",
              "      <th>customer</th>\n",
              "      <th>tnx_per_cstm</th>\n",
              "      <th>chips_per_cstm</th>\n",
              "      <th>avg_price_unit</th>\n",
              "    </tr>\n",
              "  </thead>\n",
              "  <tbody>\n",
              "    <tr>\n",
              "      <th>0</th>\n",
              "      <td>1</td>\n",
              "      <td>201807</td>\n",
              "      <td>206.9</td>\n",
              "      <td>49</td>\n",
              "      <td>1.061224</td>\n",
              "      <td>1.192308</td>\n",
              "      <td>3.337097</td>\n",
              "    </tr>\n",
              "    <tr>\n",
              "      <th>1</th>\n",
              "      <td>1</td>\n",
              "      <td>201808</td>\n",
              "      <td>176.1</td>\n",
              "      <td>42</td>\n",
              "      <td>1.023810</td>\n",
              "      <td>1.255814</td>\n",
              "      <td>3.261111</td>\n",
              "    </tr>\n",
              "    <tr>\n",
              "      <th>2</th>\n",
              "      <td>1</td>\n",
              "      <td>201809</td>\n",
              "      <td>278.8</td>\n",
              "      <td>59</td>\n",
              "      <td>1.050847</td>\n",
              "      <td>1.209677</td>\n",
              "      <td>3.717333</td>\n",
              "    </tr>\n",
              "    <tr>\n",
              "      <th>3</th>\n",
              "      <td>1</td>\n",
              "      <td>201810</td>\n",
              "      <td>188.1</td>\n",
              "      <td>44</td>\n",
              "      <td>1.022727</td>\n",
              "      <td>1.288889</td>\n",
              "      <td>3.243103</td>\n",
              "    </tr>\n",
              "    <tr>\n",
              "      <th>4</th>\n",
              "      <td>1</td>\n",
              "      <td>201811</td>\n",
              "      <td>192.6</td>\n",
              "      <td>46</td>\n",
              "      <td>1.021739</td>\n",
              "      <td>1.212766</td>\n",
              "      <td>3.378947</td>\n",
              "    </tr>\n",
              "  </tbody>\n",
              "</table>\n",
              "</div>"
            ],
            "text/plain": [
              "   store_nbr   ym_id  tot_sales  customer  tnx_per_cstm  chips_per_cstm  \\\n",
              "0          1  201807      206.9        49      1.061224        1.192308   \n",
              "1          1  201808      176.1        42      1.023810        1.255814   \n",
              "2          1  201809      278.8        59      1.050847        1.209677   \n",
              "3          1  201810      188.1        44      1.022727        1.288889   \n",
              "4          1  201811      192.6        46      1.021739        1.212766   \n",
              "\n",
              "   avg_price_unit  \n",
              "0        3.337097  \n",
              "1        3.261111  \n",
              "2        3.717333  \n",
              "3        3.243103  \n",
              "4        3.378947  "
            ]
          },
          "metadata": {},
          "execution_count": 12
        }
      ]
    },
    {
      "cell_type": "markdown",
      "metadata": {
        "id": "RHwzcreL4vOT"
      },
      "source": [
        "#### **Selecting Pre-Trail Period** "
      ]
    },
    {
      "cell_type": "code",
      "metadata": {
        "colab": {
          "base_uri": "https://localhost:8080/",
          "height": 203
        },
        "id": "Qa9QGqQw6IA7",
        "outputId": "19b4a894-334d-4382-c8cf-3741fbed91d7"
      },
      "source": [
        "pretrial = measure[measure[\"ym_id\"].between(\"201807\", \"201906\", inclusive=False)]\n",
        "pretrial.head()"
      ],
      "execution_count": 13,
      "outputs": [
        {
          "output_type": "execute_result",
          "data": {
            "text/html": [
              "<div>\n",
              "<style scoped>\n",
              "    .dataframe tbody tr th:only-of-type {\n",
              "        vertical-align: middle;\n",
              "    }\n",
              "\n",
              "    .dataframe tbody tr th {\n",
              "        vertical-align: top;\n",
              "    }\n",
              "\n",
              "    .dataframe thead th {\n",
              "        text-align: right;\n",
              "    }\n",
              "</style>\n",
              "<table border=\"1\" class=\"dataframe\">\n",
              "  <thead>\n",
              "    <tr style=\"text-align: right;\">\n",
              "      <th></th>\n",
              "      <th>store_nbr</th>\n",
              "      <th>ym_id</th>\n",
              "      <th>tot_sales</th>\n",
              "      <th>customer</th>\n",
              "      <th>tnx_per_cstm</th>\n",
              "      <th>chips_per_cstm</th>\n",
              "      <th>avg_price_unit</th>\n",
              "    </tr>\n",
              "  </thead>\n",
              "  <tbody>\n",
              "    <tr>\n",
              "      <th>1</th>\n",
              "      <td>1</td>\n",
              "      <td>201808</td>\n",
              "      <td>176.1</td>\n",
              "      <td>42</td>\n",
              "      <td>1.023810</td>\n",
              "      <td>1.255814</td>\n",
              "      <td>3.261111</td>\n",
              "    </tr>\n",
              "    <tr>\n",
              "      <th>2</th>\n",
              "      <td>1</td>\n",
              "      <td>201809</td>\n",
              "      <td>278.8</td>\n",
              "      <td>59</td>\n",
              "      <td>1.050847</td>\n",
              "      <td>1.209677</td>\n",
              "      <td>3.717333</td>\n",
              "    </tr>\n",
              "    <tr>\n",
              "      <th>3</th>\n",
              "      <td>1</td>\n",
              "      <td>201810</td>\n",
              "      <td>188.1</td>\n",
              "      <td>44</td>\n",
              "      <td>1.022727</td>\n",
              "      <td>1.288889</td>\n",
              "      <td>3.243103</td>\n",
              "    </tr>\n",
              "    <tr>\n",
              "      <th>4</th>\n",
              "      <td>1</td>\n",
              "      <td>201811</td>\n",
              "      <td>192.6</td>\n",
              "      <td>46</td>\n",
              "      <td>1.021739</td>\n",
              "      <td>1.212766</td>\n",
              "      <td>3.378947</td>\n",
              "    </tr>\n",
              "    <tr>\n",
              "      <th>5</th>\n",
              "      <td>1</td>\n",
              "      <td>201812</td>\n",
              "      <td>189.6</td>\n",
              "      <td>42</td>\n",
              "      <td>1.119048</td>\n",
              "      <td>1.212766</td>\n",
              "      <td>3.326316</td>\n",
              "    </tr>\n",
              "  </tbody>\n",
              "</table>\n",
              "</div>"
            ],
            "text/plain": [
              "   store_nbr   ym_id  tot_sales  customer  tnx_per_cstm  chips_per_cstm  \\\n",
              "1          1  201808      176.1        42      1.023810        1.255814   \n",
              "2          1  201809      278.8        59      1.050847        1.209677   \n",
              "3          1  201810      188.1        44      1.022727        1.288889   \n",
              "4          1  201811      192.6        46      1.021739        1.212766   \n",
              "5          1  201812      189.6        42      1.119048        1.212766   \n",
              "\n",
              "   avg_price_unit  \n",
              "1        3.261111  \n",
              "2        3.717333  \n",
              "3        3.243103  \n",
              "4        3.378947  \n",
              "5        3.326316  "
            ]
          },
          "metadata": {},
          "execution_count": 13
        }
      ]
    },
    {
      "cell_type": "markdown",
      "metadata": {
        "id": "YXNPhei85vGj"
      },
      "source": [
        "##### **Creating Correlation for each stores**\n",
        "\n",
        "\n",
        "*  Create a function to calculate correlation for a measure, looping through each control store.\n",
        "\n"
      ]
    },
    {
      "cell_type": "code",
      "metadata": {
        "id": "nqyOkYe28uPw"
      },
      "source": [
        "def cal_corr(table, metric, trl_store, store):\n",
        "  sample = pd.DataFrame({\"Trail Store\": [], \"nStores\": [], \"Correlation\": []})\n",
        "  st = table.loc[table[store] == trl_store, metric]\n",
        "  st.reset_index(drop = True, inplace = True)\n",
        "  st_nbrs = table[store].unique()\n",
        "\n",
        "  for a in st_nbrs:\n",
        "    if a == trl_store:\n",
        "      continue\n",
        "    nstr = table.loc[table[store] == a, metric]\n",
        "    nstr.reset_index(drop = True, inplace = True)\n",
        "    sample = sample.append({\"Trail Store\": trl_store, \"nStores\": a, \"Correlation\": nstr.corr(st)}, ignore_index = True)\n",
        "  return sample"
      ],
      "execution_count": 14,
      "outputs": []
    },
    {
      "cell_type": "markdown",
      "metadata": {
        "id": "0r5ScAycO_9D"
      },
      "source": [
        "##### **Calculating Standard Magnitude**"
      ]
    },
    {
      "cell_type": "code",
      "metadata": {
        "id": "qJbJZ0QvOgUb"
      },
      "source": [
        "def cal_std_mag(table, metric, trl_store, store):\n",
        "  mag= pd.DataFrame({\"Trail Store\": [], \"nStores\": [], \"Magnitude\": []})\n",
        "  st = table.loc[table[store] == trl_store, metric]\n",
        "  st.reset_index(drop = True, inplace = True)\n",
        "  st_nbrs = table[store].unique()\n",
        " \n",
        "  for a in st_nbrs:\n",
        "    if a == trl_store:\n",
        "      continue\n",
        "    nstr = table.loc[table[store] == a, metric]\n",
        "    nstr.reset_index(drop = True, inplace = True)\n",
        "    std_mag = abs(st-nstr)\n",
        "    magnit = np.mean(1-(std_mag-min(std_mag))/(max(std_mag)-min(std_mag)))\n",
        "    mag = mag.append({\"Trail Store\": trl_store, \"nStores\": a, \"Magnitude\": magnit}, ignore_index = True)\n",
        "  return mag"
      ],
      "execution_count": 15,
      "outputs": []
    },
    {
      "cell_type": "code",
      "metadata": {
        "id": "1dkINREZ_6kF"
      },
      "source": [
        "cor_sales = cal_corr(pretrial, \"tot_sales\", 77,\"store_nbr\")\n",
        "mag_sales = cal_std_mag(pretrial, \"tot_sales\", 77,\"store_nbr\")\n",
        "\n",
        "cor_customer  = cal_corr(pretrial, \"customer\", 77, \"store_nbr\")\n",
        "mag_customer  = cal_std_mag(pretrial, \"customer\", 77, \"store_nbr\")"
      ],
      "execution_count": 16,
      "outputs": []
    },
    {
      "cell_type": "markdown",
      "metadata": {
        "id": "6R_d0Ck4YBlV"
      },
      "source": [
        "##### **Getting Total Sales Values**\n"
      ]
    },
    {
      "cell_type": "code",
      "metadata": {
        "id": "GoLP7JG426cn",
        "colab": {
          "base_uri": "https://localhost:8080/",
          "height": 203
        },
        "outputId": "36ed5c8c-7a3f-47ae-96c6-75c8720b38b6"
      },
      "source": [
        "comb_score = pd.merge(cor_sales,mag_sales[[\"Magnitude\",\"nStores\"]],on=\"nStores\",how=\"right\")\n",
        "comb_score.head()"
      ],
      "execution_count": 17,
      "outputs": [
        {
          "output_type": "execute_result",
          "data": {
            "text/html": [
              "<div>\n",
              "<style scoped>\n",
              "    .dataframe tbody tr th:only-of-type {\n",
              "        vertical-align: middle;\n",
              "    }\n",
              "\n",
              "    .dataframe tbody tr th {\n",
              "        vertical-align: top;\n",
              "    }\n",
              "\n",
              "    .dataframe thead th {\n",
              "        text-align: right;\n",
              "    }\n",
              "</style>\n",
              "<table border=\"1\" class=\"dataframe\">\n",
              "  <thead>\n",
              "    <tr style=\"text-align: right;\">\n",
              "      <th></th>\n",
              "      <th>Trail Store</th>\n",
              "      <th>nStores</th>\n",
              "      <th>Correlation</th>\n",
              "      <th>Magnitude</th>\n",
              "    </tr>\n",
              "  </thead>\n",
              "  <tbody>\n",
              "    <tr>\n",
              "      <th>0</th>\n",
              "      <td>77.0</td>\n",
              "      <td>1.0</td>\n",
              "      <td>0.081674</td>\n",
              "      <td>0.372237</td>\n",
              "    </tr>\n",
              "    <tr>\n",
              "      <th>1</th>\n",
              "      <td>77.0</td>\n",
              "      <td>2.0</td>\n",
              "      <td>0.460638</td>\n",
              "      <td>0.563319</td>\n",
              "    </tr>\n",
              "    <tr>\n",
              "      <th>2</th>\n",
              "      <td>77.0</td>\n",
              "      <td>3.0</td>\n",
              "      <td>-0.070968</td>\n",
              "      <td>0.504915</td>\n",
              "    </tr>\n",
              "    <tr>\n",
              "      <th>3</th>\n",
              "      <td>77.0</td>\n",
              "      <td>4.0</td>\n",
              "      <td>-0.526915</td>\n",
              "      <td>0.540427</td>\n",
              "    </tr>\n",
              "    <tr>\n",
              "      <th>4</th>\n",
              "      <td>77.0</td>\n",
              "      <td>5.0</td>\n",
              "      <td>-0.518434</td>\n",
              "      <td>0.525756</td>\n",
              "    </tr>\n",
              "  </tbody>\n",
              "</table>\n",
              "</div>"
            ],
            "text/plain": [
              "   Trail Store  nStores  Correlation  Magnitude\n",
              "0         77.0      1.0     0.081674   0.372237\n",
              "1         77.0      2.0     0.460638   0.563319\n",
              "2         77.0      3.0    -0.070968   0.504915\n",
              "3         77.0      4.0    -0.526915   0.540427\n",
              "4         77.0      5.0    -0.518434   0.525756"
            ]
          },
          "metadata": {},
          "execution_count": 17
        }
      ]
    },
    {
      "cell_type": "markdown",
      "metadata": {
        "id": "pNCufRT7YH1n"
      },
      "source": [
        "Calculating the average measure"
      ]
    },
    {
      "cell_type": "code",
      "metadata": {
        "colab": {
          "base_uri": "https://localhost:8080/",
          "height": 203
        },
        "id": "9dcRdtk-PzoW",
        "outputId": "948dda35-a635-4f14-fede-c23684f71527"
      },
      "source": [
        "#0.5 is nothing but a threshold \n",
        "comb_score[\"avg_sales_measure\"] = 0.5 * comb_score[\"Correlation\"] + 0.5 * comb_score[\"Magnitude\"]\n",
        "Sales_avg_measure = comb_score.sort_values(by = \"avg_sales_measure\",ascending=False,ignore_index=True)\n",
        "Sales_avg_measure.head()"
      ],
      "execution_count": 18,
      "outputs": [
        {
          "output_type": "execute_result",
          "data": {
            "text/html": [
              "<div>\n",
              "<style scoped>\n",
              "    .dataframe tbody tr th:only-of-type {\n",
              "        vertical-align: middle;\n",
              "    }\n",
              "\n",
              "    .dataframe tbody tr th {\n",
              "        vertical-align: top;\n",
              "    }\n",
              "\n",
              "    .dataframe thead th {\n",
              "        text-align: right;\n",
              "    }\n",
              "</style>\n",
              "<table border=\"1\" class=\"dataframe\">\n",
              "  <thead>\n",
              "    <tr style=\"text-align: right;\">\n",
              "      <th></th>\n",
              "      <th>Trail Store</th>\n",
              "      <th>nStores</th>\n",
              "      <th>Correlation</th>\n",
              "      <th>Magnitude</th>\n",
              "      <th>avg_sales_measure</th>\n",
              "    </tr>\n",
              "  </thead>\n",
              "  <tbody>\n",
              "    <tr>\n",
              "      <th>0</th>\n",
              "      <td>77.0</td>\n",
              "      <td>234.0</td>\n",
              "      <td>0.694867</td>\n",
              "      <td>0.560849</td>\n",
              "      <td>0.627858</td>\n",
              "    </tr>\n",
              "    <tr>\n",
              "      <th>1</th>\n",
              "      <td>77.0</td>\n",
              "      <td>233.0</td>\n",
              "      <td>0.576319</td>\n",
              "      <td>0.674778</td>\n",
              "      <td>0.625549</td>\n",
              "    </tr>\n",
              "    <tr>\n",
              "      <th>2</th>\n",
              "      <td>77.0</td>\n",
              "      <td>214.0</td>\n",
              "      <td>0.434062</td>\n",
              "      <td>0.725026</td>\n",
              "      <td>0.579544</td>\n",
              "    </tr>\n",
              "    <tr>\n",
              "      <th>3</th>\n",
              "      <td>77.0</td>\n",
              "      <td>35.0</td>\n",
              "      <td>0.900119</td>\n",
              "      <td>0.252830</td>\n",
              "      <td>0.576474</td>\n",
              "    </tr>\n",
              "    <tr>\n",
              "      <th>4</th>\n",
              "      <td>77.0</td>\n",
              "      <td>208.0</td>\n",
              "      <td>0.516141</td>\n",
              "      <td>0.636166</td>\n",
              "      <td>0.576153</td>\n",
              "    </tr>\n",
              "  </tbody>\n",
              "</table>\n",
              "</div>"
            ],
            "text/plain": [
              "   Trail Store  nStores  Correlation  Magnitude  avg_sales_measure\n",
              "0         77.0    234.0     0.694867   0.560849           0.627858\n",
              "1         77.0    233.0     0.576319   0.674778           0.625549\n",
              "2         77.0    214.0     0.434062   0.725026           0.579544\n",
              "3         77.0     35.0     0.900119   0.252830           0.576474\n",
              "4         77.0    208.0     0.516141   0.636166           0.576153"
            ]
          },
          "metadata": {},
          "execution_count": 18
        }
      ]
    },
    {
      "cell_type": "markdown",
      "metadata": {
        "id": "FXpdntNNQKzi"
      },
      "source": [
        "##### **Getting Customer Values**"
      ]
    },
    {
      "cell_type": "code",
      "metadata": {
        "colab": {
          "base_uri": "https://localhost:8080/",
          "height": 203
        },
        "id": "zAGNE3F1QKlF",
        "outputId": "8ef6e2ee-97c6-4f60-982c-9aff9380c7dd"
      },
      "source": [
        "Mcomb_score = pd.merge(cor_customer,mag_customer[[\"Magnitude\",\"nStores\"]],on=\"nStores\",how=\"right\")\n",
        "Mcomb_score.head()"
      ],
      "execution_count": 19,
      "outputs": [
        {
          "output_type": "execute_result",
          "data": {
            "text/html": [
              "<div>\n",
              "<style scoped>\n",
              "    .dataframe tbody tr th:only-of-type {\n",
              "        vertical-align: middle;\n",
              "    }\n",
              "\n",
              "    .dataframe tbody tr th {\n",
              "        vertical-align: top;\n",
              "    }\n",
              "\n",
              "    .dataframe thead th {\n",
              "        text-align: right;\n",
              "    }\n",
              "</style>\n",
              "<table border=\"1\" class=\"dataframe\">\n",
              "  <thead>\n",
              "    <tr style=\"text-align: right;\">\n",
              "      <th></th>\n",
              "      <th>Trail Store</th>\n",
              "      <th>nStores</th>\n",
              "      <th>Correlation</th>\n",
              "      <th>Magnitude</th>\n",
              "    </tr>\n",
              "  </thead>\n",
              "  <tbody>\n",
              "    <tr>\n",
              "      <th>0</th>\n",
              "      <td>77.0</td>\n",
              "      <td>1.0</td>\n",
              "      <td>0.168946</td>\n",
              "      <td>0.623529</td>\n",
              "    </tr>\n",
              "    <tr>\n",
              "      <th>1</th>\n",
              "      <td>77.0</td>\n",
              "      <td>2.0</td>\n",
              "      <td>0.259735</td>\n",
              "      <td>0.568750</td>\n",
              "    </tr>\n",
              "    <tr>\n",
              "      <th>2</th>\n",
              "      <td>77.0</td>\n",
              "      <td>3.0</td>\n",
              "      <td>0.266628</td>\n",
              "      <td>0.357143</td>\n",
              "    </tr>\n",
              "    <tr>\n",
              "      <th>3</th>\n",
              "      <td>77.0</td>\n",
              "      <td>4.0</td>\n",
              "      <td>-0.546375</td>\n",
              "      <td>0.535849</td>\n",
              "    </tr>\n",
              "    <tr>\n",
              "      <th>4</th>\n",
              "      <td>77.0</td>\n",
              "      <td>5.0</td>\n",
              "      <td>-0.320008</td>\n",
              "      <td>0.460000</td>\n",
              "    </tr>\n",
              "  </tbody>\n",
              "</table>\n",
              "</div>"
            ],
            "text/plain": [
              "   Trail Store  nStores  Correlation  Magnitude\n",
              "0         77.0      1.0     0.168946   0.623529\n",
              "1         77.0      2.0     0.259735   0.568750\n",
              "2         77.0      3.0     0.266628   0.357143\n",
              "3         77.0      4.0    -0.546375   0.535849\n",
              "4         77.0      5.0    -0.320008   0.460000"
            ]
          },
          "metadata": {},
          "execution_count": 19
        }
      ]
    },
    {
      "cell_type": "markdown",
      "metadata": {
        "id": "b1oQHb6mZuoH"
      },
      "source": [
        "Calculating the Average Measure"
      ]
    },
    {
      "cell_type": "code",
      "metadata": {
        "colab": {
          "base_uri": "https://localhost:8080/",
          "height": 203
        },
        "id": "nSQKeE0sQKia",
        "outputId": "ffe7f9c8-1b88-48e9-8070-c2970b857409"
      },
      "source": [
        "Mcomb_score[\"avg_cust_measure\"] = 0.5 * Mcomb_score[\"Correlation\"] + 0.5 * Mcomb_score[\"Magnitude\"]\n",
        "Cstmr_avg_measure = Mcomb_score.sort_values(by = \"avg_cust_measure\",ascending=False,ignore_index=True)\n",
        "Cstmr_avg_measure.head()"
      ],
      "execution_count": 20,
      "outputs": [
        {
          "output_type": "execute_result",
          "data": {
            "text/html": [
              "<div>\n",
              "<style scoped>\n",
              "    .dataframe tbody tr th:only-of-type {\n",
              "        vertical-align: middle;\n",
              "    }\n",
              "\n",
              "    .dataframe tbody tr th {\n",
              "        vertical-align: top;\n",
              "    }\n",
              "\n",
              "    .dataframe thead th {\n",
              "        text-align: right;\n",
              "    }\n",
              "</style>\n",
              "<table border=\"1\" class=\"dataframe\">\n",
              "  <thead>\n",
              "    <tr style=\"text-align: right;\">\n",
              "      <th></th>\n",
              "      <th>Trail Store</th>\n",
              "      <th>nStores</th>\n",
              "      <th>Correlation</th>\n",
              "      <th>Magnitude</th>\n",
              "      <th>avg_cust_measure</th>\n",
              "    </tr>\n",
              "  </thead>\n",
              "  <tbody>\n",
              "    <tr>\n",
              "      <th>0</th>\n",
              "      <td>77.0</td>\n",
              "      <td>233.0</td>\n",
              "      <td>0.637712</td>\n",
              "      <td>0.800000</td>\n",
              "      <td>0.718856</td>\n",
              "    </tr>\n",
              "    <tr>\n",
              "      <th>1</th>\n",
              "      <td>77.0</td>\n",
              "      <td>35.0</td>\n",
              "      <td>0.799762</td>\n",
              "      <td>0.538462</td>\n",
              "      <td>0.669112</td>\n",
              "    </tr>\n",
              "    <tr>\n",
              "      <th>2</th>\n",
              "      <td>77.0</td>\n",
              "      <td>41.0</td>\n",
              "      <td>0.814009</td>\n",
              "      <td>0.440000</td>\n",
              "      <td>0.627005</td>\n",
              "    </tr>\n",
              "    <tr>\n",
              "      <th>3</th>\n",
              "      <td>77.0</td>\n",
              "      <td>17.0</td>\n",
              "      <td>0.499459</td>\n",
              "      <td>0.723077</td>\n",
              "      <td>0.611268</td>\n",
              "    </tr>\n",
              "    <tr>\n",
              "      <th>4</th>\n",
              "      <td>77.0</td>\n",
              "      <td>234.0</td>\n",
              "      <td>0.591472</td>\n",
              "      <td>0.627273</td>\n",
              "      <td>0.609373</td>\n",
              "    </tr>\n",
              "  </tbody>\n",
              "</table>\n",
              "</div>"
            ],
            "text/plain": [
              "   Trail Store  nStores  Correlation  Magnitude  avg_cust_measure\n",
              "0         77.0    233.0     0.637712   0.800000          0.718856\n",
              "1         77.0     35.0     0.799762   0.538462          0.669112\n",
              "2         77.0     41.0     0.814009   0.440000          0.627005\n",
              "3         77.0     17.0     0.499459   0.723077          0.611268\n",
              "4         77.0    234.0     0.591472   0.627273          0.609373"
            ]
          },
          "metadata": {},
          "execution_count": 20
        }
      ]
    },
    {
      "cell_type": "markdown",
      "metadata": {
        "id": "nqkwVSfCXSJA"
      },
      "source": [
        "###### **Getting Final Control Score**"
      ]
    },
    {
      "cell_type": "code",
      "metadata": {
        "colab": {
          "base_uri": "https://localhost:8080/",
          "height": 203
        },
        "id": "fH7pCI8oYnyd",
        "outputId": "8fb224b7-0bb4-4145-d7bc-fe5ce4aaf3a1"
      },
      "source": [
        "control_stores = pd.merge(Sales_avg_measure[[\"Trail Store\",\"nStores\",\"avg_sales_measure\"]],Cstmr_avg_measure[[\"nStores\",\"avg_cust_measure\"]],on=\"nStores\",how=\"right\")\n",
        "control_stores.head()"
      ],
      "execution_count": 21,
      "outputs": [
        {
          "output_type": "execute_result",
          "data": {
            "text/html": [
              "<div>\n",
              "<style scoped>\n",
              "    .dataframe tbody tr th:only-of-type {\n",
              "        vertical-align: middle;\n",
              "    }\n",
              "\n",
              "    .dataframe tbody tr th {\n",
              "        vertical-align: top;\n",
              "    }\n",
              "\n",
              "    .dataframe thead th {\n",
              "        text-align: right;\n",
              "    }\n",
              "</style>\n",
              "<table border=\"1\" class=\"dataframe\">\n",
              "  <thead>\n",
              "    <tr style=\"text-align: right;\">\n",
              "      <th></th>\n",
              "      <th>Trail Store</th>\n",
              "      <th>nStores</th>\n",
              "      <th>avg_sales_measure</th>\n",
              "      <th>avg_cust_measure</th>\n",
              "    </tr>\n",
              "  </thead>\n",
              "  <tbody>\n",
              "    <tr>\n",
              "      <th>0</th>\n",
              "      <td>77.0</td>\n",
              "      <td>233.0</td>\n",
              "      <td>0.625549</td>\n",
              "      <td>0.718856</td>\n",
              "    </tr>\n",
              "    <tr>\n",
              "      <th>1</th>\n",
              "      <td>77.0</td>\n",
              "      <td>35.0</td>\n",
              "      <td>0.576474</td>\n",
              "      <td>0.669112</td>\n",
              "    </tr>\n",
              "    <tr>\n",
              "      <th>2</th>\n",
              "      <td>77.0</td>\n",
              "      <td>41.0</td>\n",
              "      <td>0.573021</td>\n",
              "      <td>0.627005</td>\n",
              "    </tr>\n",
              "    <tr>\n",
              "      <th>3</th>\n",
              "      <td>77.0</td>\n",
              "      <td>17.0</td>\n",
              "      <td>0.324250</td>\n",
              "      <td>0.611268</td>\n",
              "    </tr>\n",
              "    <tr>\n",
              "      <th>4</th>\n",
              "      <td>77.0</td>\n",
              "      <td>234.0</td>\n",
              "      <td>0.627858</td>\n",
              "      <td>0.609373</td>\n",
              "    </tr>\n",
              "  </tbody>\n",
              "</table>\n",
              "</div>"
            ],
            "text/plain": [
              "   Trail Store  nStores  avg_sales_measure  avg_cust_measure\n",
              "0         77.0    233.0           0.625549          0.718856\n",
              "1         77.0     35.0           0.576474          0.669112\n",
              "2         77.0     41.0           0.573021          0.627005\n",
              "3         77.0     17.0           0.324250          0.611268\n",
              "4         77.0    234.0           0.627858          0.609373"
            ]
          },
          "metadata": {},
          "execution_count": 21
        }
      ]
    },
    {
      "cell_type": "code",
      "metadata": {
        "id": "UpxJZbdBQKfm",
        "colab": {
          "base_uri": "https://localhost:8080/",
          "height": 203
        },
        "outputId": "788d718e-6779-4298-c359-6165d7576a0c"
      },
      "source": [
        "control_stores[\"final_score\"] = 0.5 * control_stores[\"avg_sales_measure\"] + 0.5 * control_stores[\"avg_cust_measure\"]\n",
        "control_stores = control_stores.sort_values(by=\"final_score\", ascending = False,ignore_index=True)\n",
        "control_stores.head()"
      ],
      "execution_count": 22,
      "outputs": [
        {
          "output_type": "execute_result",
          "data": {
            "text/html": [
              "<div>\n",
              "<style scoped>\n",
              "    .dataframe tbody tr th:only-of-type {\n",
              "        vertical-align: middle;\n",
              "    }\n",
              "\n",
              "    .dataframe tbody tr th {\n",
              "        vertical-align: top;\n",
              "    }\n",
              "\n",
              "    .dataframe thead th {\n",
              "        text-align: right;\n",
              "    }\n",
              "</style>\n",
              "<table border=\"1\" class=\"dataframe\">\n",
              "  <thead>\n",
              "    <tr style=\"text-align: right;\">\n",
              "      <th></th>\n",
              "      <th>Trail Store</th>\n",
              "      <th>nStores</th>\n",
              "      <th>avg_sales_measure</th>\n",
              "      <th>avg_cust_measure</th>\n",
              "      <th>final_score</th>\n",
              "    </tr>\n",
              "  </thead>\n",
              "  <tbody>\n",
              "    <tr>\n",
              "      <th>0</th>\n",
              "      <td>77.0</td>\n",
              "      <td>233.0</td>\n",
              "      <td>0.625549</td>\n",
              "      <td>0.718856</td>\n",
              "      <td>0.672202</td>\n",
              "    </tr>\n",
              "    <tr>\n",
              "      <th>1</th>\n",
              "      <td>77.0</td>\n",
              "      <td>35.0</td>\n",
              "      <td>0.576474</td>\n",
              "      <td>0.669112</td>\n",
              "      <td>0.622793</td>\n",
              "    </tr>\n",
              "    <tr>\n",
              "      <th>2</th>\n",
              "      <td>77.0</td>\n",
              "      <td>234.0</td>\n",
              "      <td>0.627858</td>\n",
              "      <td>0.609373</td>\n",
              "      <td>0.618615</td>\n",
              "    </tr>\n",
              "    <tr>\n",
              "      <th>3</th>\n",
              "      <td>77.0</td>\n",
              "      <td>41.0</td>\n",
              "      <td>0.573021</td>\n",
              "      <td>0.627005</td>\n",
              "      <td>0.600013</td>\n",
              "    </tr>\n",
              "    <tr>\n",
              "      <th>4</th>\n",
              "      <td>77.0</td>\n",
              "      <td>185.0</td>\n",
              "      <td>0.562017</td>\n",
              "      <td>0.600320</td>\n",
              "      <td>0.581169</td>\n",
              "    </tr>\n",
              "  </tbody>\n",
              "</table>\n",
              "</div>"
            ],
            "text/plain": [
              "   Trail Store  nStores  avg_sales_measure  avg_cust_measure  final_score\n",
              "0         77.0    233.0           0.625549          0.718856     0.672202\n",
              "1         77.0     35.0           0.576474          0.669112     0.622793\n",
              "2         77.0    234.0           0.627858          0.609373     0.618615\n",
              "3         77.0     41.0           0.573021          0.627005     0.600013\n",
              "4         77.0    185.0           0.562017          0.600320     0.581169"
            ]
          },
          "metadata": {},
          "execution_count": 22
        }
      ]
    },
    {
      "cell_type": "markdown",
      "metadata": {
        "id": "pfhEbSpTZ1Ne"
      },
      "source": [
        "### **The Control Store for Trial Store 77 is Store Number 233**"
      ]
    },
    {
      "cell_type": "code",
      "metadata": {
        "colab": {
          "base_uri": "https://localhost:8080/",
          "height": 304
        },
        "id": "abkVJLjP1VzG",
        "outputId": "df2eef72-ff79-4fb4-819c-c128ec42ae0b"
      },
      "source": [
        "store = []\n",
        "for a in pretrial[\"store_nbr\"]:\n",
        "  if a == 77:\n",
        "    store.append(\"TrialStore\")\n",
        "  elif a == 233:\n",
        "    store.append(\"ControlStore\")\n",
        "  else: \n",
        "    store.append(\"OtherStore\")\n",
        "pretrial[\"store_type\"] = store \n",
        "pretrial.head()"
      ],
      "execution_count": 23,
      "outputs": [
        {
          "output_type": "stream",
          "name": "stderr",
          "text": [
            "/usr/local/lib/python3.7/dist-packages/ipykernel_launcher.py:9: SettingWithCopyWarning: \n",
            "A value is trying to be set on a copy of a slice from a DataFrame.\n",
            "Try using .loc[row_indexer,col_indexer] = value instead\n",
            "\n",
            "See the caveats in the documentation: https://pandas.pydata.org/pandas-docs/stable/user_guide/indexing.html#returning-a-view-versus-a-copy\n",
            "  if __name__ == '__main__':\n"
          ]
        },
        {
          "output_type": "execute_result",
          "data": {
            "text/html": [
              "<div>\n",
              "<style scoped>\n",
              "    .dataframe tbody tr th:only-of-type {\n",
              "        vertical-align: middle;\n",
              "    }\n",
              "\n",
              "    .dataframe tbody tr th {\n",
              "        vertical-align: top;\n",
              "    }\n",
              "\n",
              "    .dataframe thead th {\n",
              "        text-align: right;\n",
              "    }\n",
              "</style>\n",
              "<table border=\"1\" class=\"dataframe\">\n",
              "  <thead>\n",
              "    <tr style=\"text-align: right;\">\n",
              "      <th></th>\n",
              "      <th>store_nbr</th>\n",
              "      <th>ym_id</th>\n",
              "      <th>tot_sales</th>\n",
              "      <th>customer</th>\n",
              "      <th>tnx_per_cstm</th>\n",
              "      <th>chips_per_cstm</th>\n",
              "      <th>avg_price_unit</th>\n",
              "      <th>store_type</th>\n",
              "    </tr>\n",
              "  </thead>\n",
              "  <tbody>\n",
              "    <tr>\n",
              "      <th>1</th>\n",
              "      <td>1</td>\n",
              "      <td>201808</td>\n",
              "      <td>176.1</td>\n",
              "      <td>42</td>\n",
              "      <td>1.023810</td>\n",
              "      <td>1.255814</td>\n",
              "      <td>3.261111</td>\n",
              "      <td>OtherStore</td>\n",
              "    </tr>\n",
              "    <tr>\n",
              "      <th>2</th>\n",
              "      <td>1</td>\n",
              "      <td>201809</td>\n",
              "      <td>278.8</td>\n",
              "      <td>59</td>\n",
              "      <td>1.050847</td>\n",
              "      <td>1.209677</td>\n",
              "      <td>3.717333</td>\n",
              "      <td>OtherStore</td>\n",
              "    </tr>\n",
              "    <tr>\n",
              "      <th>3</th>\n",
              "      <td>1</td>\n",
              "      <td>201810</td>\n",
              "      <td>188.1</td>\n",
              "      <td>44</td>\n",
              "      <td>1.022727</td>\n",
              "      <td>1.288889</td>\n",
              "      <td>3.243103</td>\n",
              "      <td>OtherStore</td>\n",
              "    </tr>\n",
              "    <tr>\n",
              "      <th>4</th>\n",
              "      <td>1</td>\n",
              "      <td>201811</td>\n",
              "      <td>192.6</td>\n",
              "      <td>46</td>\n",
              "      <td>1.021739</td>\n",
              "      <td>1.212766</td>\n",
              "      <td>3.378947</td>\n",
              "      <td>OtherStore</td>\n",
              "    </tr>\n",
              "    <tr>\n",
              "      <th>5</th>\n",
              "      <td>1</td>\n",
              "      <td>201812</td>\n",
              "      <td>189.6</td>\n",
              "      <td>42</td>\n",
              "      <td>1.119048</td>\n",
              "      <td>1.212766</td>\n",
              "      <td>3.326316</td>\n",
              "      <td>OtherStore</td>\n",
              "    </tr>\n",
              "  </tbody>\n",
              "</table>\n",
              "</div>"
            ],
            "text/plain": [
              "   store_nbr   ym_id  tot_sales  customer  tnx_per_cstm  chips_per_cstm  \\\n",
              "1          1  201808      176.1        42      1.023810        1.255814   \n",
              "2          1  201809      278.8        59      1.050847        1.209677   \n",
              "3          1  201810      188.1        44      1.022727        1.288889   \n",
              "4          1  201811      192.6        46      1.021739        1.212766   \n",
              "5          1  201812      189.6        42      1.119048        1.212766   \n",
              "\n",
              "   avg_price_unit  store_type  \n",
              "1        3.261111  OtherStore  \n",
              "2        3.717333  OtherStore  \n",
              "3        3.243103  OtherStore  \n",
              "4        3.378947  OtherStore  \n",
              "5        3.326316  OtherStore  "
            ]
          },
          "metadata": {},
          "execution_count": 23
        }
      ]
    },
    {
      "cell_type": "markdown",
      "metadata": {
        "id": "wbj5xdxKEOn9"
      },
      "source": [
        "##### **Visualizing The Number of Sales and Customers Per Month for Control Store 233 & Trial Store 77**"
      ]
    },
    {
      "cell_type": "code",
      "metadata": {
        "id": "hjWTkB7kJHv5",
        "colab": {
          "base_uri": "https://localhost:8080/",
          "height": 892
        },
        "outputId": "d18dfc9d-9370-4abe-e3f4-0d66607c0ba5"
      },
      "source": [
        "def sales_cust(val,Ylabel,show_title):\n",
        "  plt.figure(figsize=(18,6))\n",
        "  sns.lineplot(x = pretrial[\"ym_id\"], y = pretrial[val], hue=pretrial[\"store_type\"])\n",
        "  plt.title(show_title)\n",
        "  plt.xlabel(\"Year & Month\")\n",
        "  plt.ylabel(Ylabel)\n",
        "  plt.axvspan(xmin=\"201902\",xmax=\"201904\", color = 'grey', alpha = 0.2)\n",
        "\n",
        "  print()\n",
        "  print()\n",
        "  print()\n",
        "  plt.show()\n",
        "sales_cust(\"tot_sales\",\"Number of Sales\",\"Number of Sales per Month\")\n",
        "sales_cust(\"customer\",\"Number of Customers\",\"Number of Customers per Month\")"
      ],
      "execution_count": 24,
      "outputs": [
        {
          "output_type": "stream",
          "name": "stdout",
          "text": [
            "\n",
            "\n",
            "\n"
          ]
        },
        {
          "output_type": "display_data",
          "data": {
            "image/png": "[encoded data removed]",
            "text/plain": [
              "<Figure size 1296x432 with 1 Axes>"
            ]
          },
          "metadata": {
            "needs_background": "light"
          }
        },
        {
          "output_type": "stream",
          "name": "stdout",
          "text": [
            "\n",
            "\n",
            "\n"
          ]
        },
        {
          "output_type": "display_data",
          "data": {
            "image/png": "[encoded data removed]",
            "text/plain": [
              "<Figure size 1296x432 with 1 Axes>"
            ]
          },
          "metadata": {
            "needs_background": "light"
          }
        }
      ]
    },
    {
      "cell_type": "markdown",
      "metadata": {
        "id": "QSgg5Ho82AHX"
      },
      "source": [
        "The sales and customers were increased in the trial period when compared to the control store"
      ]
    },
    {
      "cell_type": "markdown",
      "metadata": {
        "id": "wUEnhHB5s3Ix"
      },
      "source": [
        "# **Selecting Control Store for Trial Store 86**"
      ]
    },
    {
      "cell_type": "code",
      "metadata": {
        "id": "2GOqiNl1s25S"
      },
      "source": [
        "cor_sales = cal_corr(pretrial, \"tot_sales\", 86,\"store_nbr\")\n",
        "mag_sales = cal_std_mag(pretrial, \"tot_sales\", 86,\"store_nbr\")\n",
        "\n",
        "cor_customer  = cal_corr(pretrial, \"customer\", 86, \"store_nbr\")\n",
        "mag_customer  = cal_std_mag(pretrial, \"customer\",86, \"store_nbr\")"
      ],
      "execution_count": 25,
      "outputs": []
    },
    {
      "cell_type": "markdown",
      "metadata": {
        "id": "gCBqazuUteVH"
      },
      "source": [
        "##### **Getting Total Sales Values**\n"
      ]
    },
    {
      "cell_type": "code",
      "metadata": {
        "colab": {
          "base_uri": "https://localhost:8080/",
          "height": 203
        },
        "id": "79TY073WteVO",
        "outputId": "7324bd44-e2df-42e9-ade7-19dd11cdee6b"
      },
      "source": [
        "comb_score = pd.merge(cor_sales,mag_sales[[\"Magnitude\",\"nStores\"]],on=\"nStores\",how=\"right\")\n",
        "comb_score.head()"
      ],
      "execution_count": 26,
      "outputs": [
        {
          "output_type": "execute_result",
          "data": {
            "text/html": [
              "<div>\n",
              "<style scoped>\n",
              "    .dataframe tbody tr th:only-of-type {\n",
              "        vertical-align: middle;\n",
              "    }\n",
              "\n",
              "    .dataframe tbody tr th {\n",
              "        vertical-align: top;\n",
              "    }\n",
              "\n",
              "    .dataframe thead th {\n",
              "        text-align: right;\n",
              "    }\n",
              "</style>\n",
              "<table border=\"1\" class=\"dataframe\">\n",
              "  <thead>\n",
              "    <tr style=\"text-align: right;\">\n",
              "      <th></th>\n",
              "      <th>Trail Store</th>\n",
              "      <th>nStores</th>\n",
              "      <th>Correlation</th>\n",
              "      <th>Magnitude</th>\n",
              "    </tr>\n",
              "  </thead>\n",
              "  <tbody>\n",
              "    <tr>\n",
              "      <th>0</th>\n",
              "      <td>86.0</td>\n",
              "      <td>1.0</td>\n",
              "      <td>0.303665</td>\n",
              "      <td>0.588107</td>\n",
              "    </tr>\n",
              "    <tr>\n",
              "      <th>1</th>\n",
              "      <td>86.0</td>\n",
              "      <td>2.0</td>\n",
              "      <td>-0.034407</td>\n",
              "      <td>0.431178</td>\n",
              "    </tr>\n",
              "    <tr>\n",
              "      <th>2</th>\n",
              "      <td>86.0</td>\n",
              "      <td>3.0</td>\n",
              "      <td>0.180132</td>\n",
              "      <td>0.616113</td>\n",
              "    </tr>\n",
              "    <tr>\n",
              "      <th>3</th>\n",
              "      <td>86.0</td>\n",
              "      <td>4.0</td>\n",
              "      <td>-0.210100</td>\n",
              "      <td>0.555185</td>\n",
              "    </tr>\n",
              "    <tr>\n",
              "      <th>4</th>\n",
              "      <td>86.0</td>\n",
              "      <td>5.0</td>\n",
              "      <td>-0.251403</td>\n",
              "      <td>0.658143</td>\n",
              "    </tr>\n",
              "  </tbody>\n",
              "</table>\n",
              "</div>"
            ],
            "text/plain": [
              "   Trail Store  nStores  Correlation  Magnitude\n",
              "0         86.0      1.0     0.303665   0.588107\n",
              "1         86.0      2.0    -0.034407   0.431178\n",
              "2         86.0      3.0     0.180132   0.616113\n",
              "3         86.0      4.0    -0.210100   0.555185\n",
              "4         86.0      5.0    -0.251403   0.658143"
            ]
          },
          "metadata": {},
          "execution_count": 26
        }
      ]
    },
    {
      "cell_type": "markdown",
      "metadata": {
        "id": "jkwkNfHmteVR"
      },
      "source": [
        "Calculating the average measure"
      ]
    },
    {
      "cell_type": "code",
      "metadata": {
        "colab": {
          "base_uri": "https://localhost:8080/",
          "height": 203
        },
        "id": "QA-IZ8wBteVR",
        "outputId": "d62ab474-7663-4d25-a755-5bd4b35021a8"
      },
      "source": [
        "#0.5 is nothing but a threshold \n",
        "comb_score[\"avg_sales_measure\"] = 0.5 * comb_score[\"Correlation\"] + 0.5 * comb_score[\"Magnitude\"]\n",
        "Sales_avg_measure = comb_score.sort_values(by = \"avg_sales_measure\",ascending=False,ignore_index=True)\n",
        "Sales_avg_measure.head()"
      ],
      "execution_count": 27,
      "outputs": [
        {
          "output_type": "execute_result",
          "data": {
            "text/html": [
              "<div>\n",
              "<style scoped>\n",
              "    .dataframe tbody tr th:only-of-type {\n",
              "        vertical-align: middle;\n",
              "    }\n",
              "\n",
              "    .dataframe tbody tr th {\n",
              "        vertical-align: top;\n",
              "    }\n",
              "\n",
              "    .dataframe thead th {\n",
              "        text-align: right;\n",
              "    }\n",
              "</style>\n",
              "<table border=\"1\" class=\"dataframe\">\n",
              "  <thead>\n",
              "    <tr style=\"text-align: right;\">\n",
              "      <th></th>\n",
              "      <th>Trail Store</th>\n",
              "      <th>nStores</th>\n",
              "      <th>Correlation</th>\n",
              "      <th>Magnitude</th>\n",
              "      <th>avg_sales_measure</th>\n",
              "    </tr>\n",
              "  </thead>\n",
              "  <tbody>\n",
              "    <tr>\n",
              "      <th>0</th>\n",
              "      <td>86.0</td>\n",
              "      <td>109.0</td>\n",
              "      <td>0.628404</td>\n",
              "      <td>0.701223</td>\n",
              "      <td>0.664813</td>\n",
              "    </tr>\n",
              "    <tr>\n",
              "      <th>1</th>\n",
              "      <td>86.0</td>\n",
              "      <td>106.0</td>\n",
              "      <td>0.508692</td>\n",
              "      <td>0.784244</td>\n",
              "      <td>0.646468</td>\n",
              "    </tr>\n",
              "    <tr>\n",
              "      <th>2</th>\n",
              "      <td>86.0</td>\n",
              "      <td>231.0</td>\n",
              "      <td>0.652169</td>\n",
              "      <td>0.616724</td>\n",
              "      <td>0.634447</td>\n",
              "    </tr>\n",
              "    <tr>\n",
              "      <th>3</th>\n",
              "      <td>86.0</td>\n",
              "      <td>181.0</td>\n",
              "      <td>0.696928</td>\n",
              "      <td>0.528323</td>\n",
              "      <td>0.612626</td>\n",
              "    </tr>\n",
              "    <tr>\n",
              "      <th>4</th>\n",
              "      <td>86.0</td>\n",
              "      <td>88.0</td>\n",
              "      <td>0.605880</td>\n",
              "      <td>0.613515</td>\n",
              "      <td>0.609697</td>\n",
              "    </tr>\n",
              "  </tbody>\n",
              "</table>\n",
              "</div>"
            ],
            "text/plain": [
              "   Trail Store  nStores  Correlation  Magnitude  avg_sales_measure\n",
              "0         86.0    109.0     0.628404   0.701223           0.664813\n",
              "1         86.0    106.0     0.508692   0.784244           0.646468\n",
              "2         86.0    231.0     0.652169   0.616724           0.634447\n",
              "3         86.0    181.0     0.696928   0.528323           0.612626\n",
              "4         86.0     88.0     0.605880   0.613515           0.609697"
            ]
          },
          "metadata": {},
          "execution_count": 27
        }
      ]
    },
    {
      "cell_type": "markdown",
      "metadata": {
        "id": "QeG6dJJDteVR"
      },
      "source": [
        "##### **Getting Customer Values**"
      ]
    },
    {
      "cell_type": "code",
      "metadata": {
        "colab": {
          "base_uri": "https://localhost:8080/",
          "height": 203
        },
        "id": "XyYdhmecteVR",
        "outputId": "27ef55ba-a070-442b-89ff-058dd9c1f4a0"
      },
      "source": [
        "Mcomb_score = pd.merge(cor_customer,mag_customer[[\"Magnitude\",\"nStores\"]],on=\"nStores\",how=\"right\")\n",
        "Mcomb_score.head()"
      ],
      "execution_count": 28,
      "outputs": [
        {
          "output_type": "execute_result",
          "data": {
            "text/html": [
              "<div>\n",
              "<style scoped>\n",
              "    .dataframe tbody tr th:only-of-type {\n",
              "        vertical-align: middle;\n",
              "    }\n",
              "\n",
              "    .dataframe tbody tr th {\n",
              "        vertical-align: top;\n",
              "    }\n",
              "\n",
              "    .dataframe thead th {\n",
              "        text-align: right;\n",
              "    }\n",
              "</style>\n",
              "<table border=\"1\" class=\"dataframe\">\n",
              "  <thead>\n",
              "    <tr style=\"text-align: right;\">\n",
              "      <th></th>\n",
              "      <th>Trail Store</th>\n",
              "      <th>nStores</th>\n",
              "      <th>Correlation</th>\n",
              "      <th>Magnitude</th>\n",
              "    </tr>\n",
              "  </thead>\n",
              "  <tbody>\n",
              "    <tr>\n",
              "      <th>0</th>\n",
              "      <td>86.0</td>\n",
              "      <td>1.0</td>\n",
              "      <td>0.379673</td>\n",
              "      <td>0.476923</td>\n",
              "    </tr>\n",
              "    <tr>\n",
              "      <th>1</th>\n",
              "      <td>86.0</td>\n",
              "      <td>2.0</td>\n",
              "      <td>0.087526</td>\n",
              "      <td>0.559259</td>\n",
              "    </tr>\n",
              "    <tr>\n",
              "      <th>2</th>\n",
              "      <td>86.0</td>\n",
              "      <td>3.0</td>\n",
              "      <td>0.012491</td>\n",
              "      <td>0.588235</td>\n",
              "    </tr>\n",
              "    <tr>\n",
              "      <th>3</th>\n",
              "      <td>86.0</td>\n",
              "      <td>4.0</td>\n",
              "      <td>-0.299560</td>\n",
              "      <td>0.630769</td>\n",
              "    </tr>\n",
              "    <tr>\n",
              "      <th>4</th>\n",
              "      <td>86.0</td>\n",
              "      <td>5.0</td>\n",
              "      <td>-0.602681</td>\n",
              "      <td>0.619355</td>\n",
              "    </tr>\n",
              "  </tbody>\n",
              "</table>\n",
              "</div>"
            ],
            "text/plain": [
              "   Trail Store  nStores  Correlation  Magnitude\n",
              "0         86.0      1.0     0.379673   0.476923\n",
              "1         86.0      2.0     0.087526   0.559259\n",
              "2         86.0      3.0     0.012491   0.588235\n",
              "3         86.0      4.0    -0.299560   0.630769\n",
              "4         86.0      5.0    -0.602681   0.619355"
            ]
          },
          "metadata": {},
          "execution_count": 28
        }
      ]
    },
    {
      "cell_type": "markdown",
      "metadata": {
        "id": "0lyft3rlteVS"
      },
      "source": [
        "Calculating the Average Measure"
      ]
    },
    {
      "cell_type": "code",
      "metadata": {
        "colab": {
          "base_uri": "https://localhost:8080/",
          "height": 203
        },
        "id": "KeYsAzfSteVS",
        "outputId": "f54dcd59-aad0-4a24-fcc0-30791045641a"
      },
      "source": [
        "Mcomb_score[\"avg_cust_measure\"] = 0.5 * Mcomb_score[\"Correlation\"] + 0.5 * Mcomb_score[\"Magnitude\"]\n",
        "Cstmr_avg_measure = Mcomb_score.sort_values(by = \"avg_cust_measure\",ascending=False,ignore_index=True)\n",
        "Cstmr_avg_measure.head()"
      ],
      "execution_count": 29,
      "outputs": [
        {
          "output_type": "execute_result",
          "data": {
            "text/html": [
              "<div>\n",
              "<style scoped>\n",
              "    .dataframe tbody tr th:only-of-type {\n",
              "        vertical-align: middle;\n",
              "    }\n",
              "\n",
              "    .dataframe tbody tr th {\n",
              "        vertical-align: top;\n",
              "    }\n",
              "\n",
              "    .dataframe thead th {\n",
              "        text-align: right;\n",
              "    }\n",
              "</style>\n",
              "<table border=\"1\" class=\"dataframe\">\n",
              "  <thead>\n",
              "    <tr style=\"text-align: right;\">\n",
              "      <th></th>\n",
              "      <th>Trail Store</th>\n",
              "      <th>nStores</th>\n",
              "      <th>Correlation</th>\n",
              "      <th>Magnitude</th>\n",
              "      <th>avg_cust_measure</th>\n",
              "    </tr>\n",
              "  </thead>\n",
              "  <tbody>\n",
              "    <tr>\n",
              "      <th>0</th>\n",
              "      <td>86.0</td>\n",
              "      <td>176.0</td>\n",
              "      <td>0.842257</td>\n",
              "      <td>0.609091</td>\n",
              "      <td>0.725674</td>\n",
              "    </tr>\n",
              "    <tr>\n",
              "      <th>1</th>\n",
              "      <td>86.0</td>\n",
              "      <td>229.0</td>\n",
              "      <td>0.779697</td>\n",
              "      <td>0.627273</td>\n",
              "      <td>0.703485</td>\n",
              "    </tr>\n",
              "    <tr>\n",
              "      <th>2</th>\n",
              "      <td>86.0</td>\n",
              "      <td>99.0</td>\n",
              "      <td>0.742352</td>\n",
              "      <td>0.541176</td>\n",
              "      <td>0.641764</td>\n",
              "    </tr>\n",
              "    <tr>\n",
              "      <th>3</th>\n",
              "      <td>86.0</td>\n",
              "      <td>188.0</td>\n",
              "      <td>0.620453</td>\n",
              "      <td>0.631250</td>\n",
              "      <td>0.625851</td>\n",
              "    </tr>\n",
              "    <tr>\n",
              "      <th>4</th>\n",
              "      <td>86.0</td>\n",
              "      <td>222.0</td>\n",
              "      <td>0.591625</td>\n",
              "      <td>0.656250</td>\n",
              "      <td>0.623937</td>\n",
              "    </tr>\n",
              "  </tbody>\n",
              "</table>\n",
              "</div>"
            ],
            "text/plain": [
              "   Trail Store  nStores  Correlation  Magnitude  avg_cust_measure\n",
              "0         86.0    176.0     0.842257   0.609091          0.725674\n",
              "1         86.0    229.0     0.779697   0.627273          0.703485\n",
              "2         86.0     99.0     0.742352   0.541176          0.641764\n",
              "3         86.0    188.0     0.620453   0.631250          0.625851\n",
              "4         86.0    222.0     0.591625   0.656250          0.623937"
            ]
          },
          "metadata": {},
          "execution_count": 29
        }
      ]
    },
    {
      "cell_type": "markdown",
      "metadata": {
        "id": "QLHFlCWvteVS"
      },
      "source": [
        "###### **Getting Final Control Score**"
      ]
    },
    {
      "cell_type": "code",
      "metadata": {
        "colab": {
          "base_uri": "https://localhost:8080/",
          "height": 203
        },
        "id": "pXPcGDoSteVS",
        "outputId": "9ada2a03-dcbf-4f11-b46a-e53943585938"
      },
      "source": [
        "control_stores = pd.merge(Sales_avg_measure[[\"Trail Store\",\"nStores\",\"avg_sales_measure\"]],Cstmr_avg_measure[[\"nStores\",\"avg_cust_measure\"]],on=\"nStores\",how=\"right\")\n",
        "control_stores.head()"
      ],
      "execution_count": 30,
      "outputs": [
        {
          "output_type": "execute_result",
          "data": {
            "text/html": [
              "<div>\n",
              "<style scoped>\n",
              "    .dataframe tbody tr th:only-of-type {\n",
              "        vertical-align: middle;\n",
              "    }\n",
              "\n",
              "    .dataframe tbody tr th {\n",
              "        vertical-align: top;\n",
              "    }\n",
              "\n",
              "    .dataframe thead th {\n",
              "        text-align: right;\n",
              "    }\n",
              "</style>\n",
              "<table border=\"1\" class=\"dataframe\">\n",
              "  <thead>\n",
              "    <tr style=\"text-align: right;\">\n",
              "      <th></th>\n",
              "      <th>Trail Store</th>\n",
              "      <th>nStores</th>\n",
              "      <th>avg_sales_measure</th>\n",
              "      <th>avg_cust_measure</th>\n",
              "    </tr>\n",
              "  </thead>\n",
              "  <tbody>\n",
              "    <tr>\n",
              "      <th>0</th>\n",
              "      <td>86.0</td>\n",
              "      <td>176.0</td>\n",
              "      <td>0.556841</td>\n",
              "      <td>0.725674</td>\n",
              "    </tr>\n",
              "    <tr>\n",
              "      <th>1</th>\n",
              "      <td>86.0</td>\n",
              "      <td>229.0</td>\n",
              "      <td>0.576517</td>\n",
              "      <td>0.703485</td>\n",
              "    </tr>\n",
              "    <tr>\n",
              "      <th>2</th>\n",
              "      <td>86.0</td>\n",
              "      <td>99.0</td>\n",
              "      <td>0.577133</td>\n",
              "      <td>0.641764</td>\n",
              "    </tr>\n",
              "    <tr>\n",
              "      <th>3</th>\n",
              "      <td>86.0</td>\n",
              "      <td>188.0</td>\n",
              "      <td>0.483052</td>\n",
              "      <td>0.625851</td>\n",
              "    </tr>\n",
              "    <tr>\n",
              "      <th>4</th>\n",
              "      <td>86.0</td>\n",
              "      <td>222.0</td>\n",
              "      <td>0.556366</td>\n",
              "      <td>0.623937</td>\n",
              "    </tr>\n",
              "  </tbody>\n",
              "</table>\n",
              "</div>"
            ],
            "text/plain": [
              "   Trail Store  nStores  avg_sales_measure  avg_cust_measure\n",
              "0         86.0    176.0           0.556841          0.725674\n",
              "1         86.0    229.0           0.576517          0.703485\n",
              "2         86.0     99.0           0.577133          0.641764\n",
              "3         86.0    188.0           0.483052          0.625851\n",
              "4         86.0    222.0           0.556366          0.623937"
            ]
          },
          "metadata": {},
          "execution_count": 30
        }
      ]
    },
    {
      "cell_type": "code",
      "metadata": {
        "colab": {
          "base_uri": "https://localhost:8080/",
          "height": 203
        },
        "id": "rybY0cCxteVT",
        "outputId": "e69b2121-2b84-43de-88db-b95a84c6117e"
      },
      "source": [
        "control_stores[\"final_score\"] = 0.5 * control_stores[\"avg_sales_measure\"] + 0.5 * control_stores[\"avg_cust_measure\"]\n",
        "control_stores = control_stores.sort_values(by=\"final_score\", ascending = False,ignore_index=True)\n",
        "control_stores.head()"
      ],
      "execution_count": 31,
      "outputs": [
        {
          "output_type": "execute_result",
          "data": {
            "text/html": [
              "<div>\n",
              "<style scoped>\n",
              "    .dataframe tbody tr th:only-of-type {\n",
              "        vertical-align: middle;\n",
              "    }\n",
              "\n",
              "    .dataframe tbody tr th {\n",
              "        vertical-align: top;\n",
              "    }\n",
              "\n",
              "    .dataframe thead th {\n",
              "        text-align: right;\n",
              "    }\n",
              "</style>\n",
              "<table border=\"1\" class=\"dataframe\">\n",
              "  <thead>\n",
              "    <tr style=\"text-align: right;\">\n",
              "      <th></th>\n",
              "      <th>Trail Store</th>\n",
              "      <th>nStores</th>\n",
              "      <th>avg_sales_measure</th>\n",
              "      <th>avg_cust_measure</th>\n",
              "      <th>final_score</th>\n",
              "    </tr>\n",
              "  </thead>\n",
              "  <tbody>\n",
              "    <tr>\n",
              "      <th>0</th>\n",
              "      <td>86.0</td>\n",
              "      <td>176.0</td>\n",
              "      <td>0.556841</td>\n",
              "      <td>0.725674</td>\n",
              "      <td>0.641257</td>\n",
              "    </tr>\n",
              "    <tr>\n",
              "      <th>1</th>\n",
              "      <td>86.0</td>\n",
              "      <td>229.0</td>\n",
              "      <td>0.576517</td>\n",
              "      <td>0.703485</td>\n",
              "      <td>0.640001</td>\n",
              "    </tr>\n",
              "    <tr>\n",
              "      <th>2</th>\n",
              "      <td>86.0</td>\n",
              "      <td>109.0</td>\n",
              "      <td>0.664813</td>\n",
              "      <td>0.611277</td>\n",
              "      <td>0.638045</td>\n",
              "    </tr>\n",
              "    <tr>\n",
              "      <th>3</th>\n",
              "      <td>86.0</td>\n",
              "      <td>99.0</td>\n",
              "      <td>0.577133</td>\n",
              "      <td>0.641764</td>\n",
              "      <td>0.609449</td>\n",
              "    </tr>\n",
              "    <tr>\n",
              "      <th>4</th>\n",
              "      <td>86.0</td>\n",
              "      <td>64.0</td>\n",
              "      <td>0.566553</td>\n",
              "      <td>0.623336</td>\n",
              "      <td>0.594945</td>\n",
              "    </tr>\n",
              "  </tbody>\n",
              "</table>\n",
              "</div>"
            ],
            "text/plain": [
              "   Trail Store  nStores  avg_sales_measure  avg_cust_measure  final_score\n",
              "0         86.0    176.0           0.556841          0.725674     0.641257\n",
              "1         86.0    229.0           0.576517          0.703485     0.640001\n",
              "2         86.0    109.0           0.664813          0.611277     0.638045\n",
              "3         86.0     99.0           0.577133          0.641764     0.609449\n",
              "4         86.0     64.0           0.566553          0.623336     0.594945"
            ]
          },
          "metadata": {},
          "execution_count": 31
        }
      ]
    },
    {
      "cell_type": "markdown",
      "metadata": {
        "id": "Uj--UH5ytyQr"
      },
      "source": [
        "### **The Control Store for Trial Store 86 is Store Number 176**"
      ]
    },
    {
      "cell_type": "markdown",
      "metadata": {
        "id": "8bAYCP2Lwgiz"
      },
      "source": [
        "##### **Visualizing The Number of Sales and Customers Per Month for Control Store 176 & Trial Store 86**"
      ]
    },
    {
      "cell_type": "code",
      "metadata": {
        "colab": {
          "base_uri": "https://localhost:8080/",
          "height": 892
        },
        "id": "bI1vhTFzwgi0",
        "outputId": "b6b15a49-cde2-467b-8245-34fe76c3ef15"
      },
      "source": [
        "sales_cust(\"tot_sales\",\"Number of Sales\",\"Number of Sales per Month\")\n",
        "sales_cust(\"customer\",\"Number of Customers\",\"Number of Customers per Month\")"
      ],
      "execution_count": 32,
      "outputs": [
        {
          "output_type": "stream",
          "name": "stdout",
          "text": [
            "\n",
            "\n",
            "\n"
          ]
        },
        {
          "output_type": "display_data",
          "data": {
            "image/png": "[encoded data removed]",
            "text/plain": [
              "<Figure size 1296x432 with 1 Axes>"
            ]
          },
          "metadata": {
            "needs_background": "light"
          }
        },
        {
          "output_type": "stream",
          "name": "stdout",
          "text": [
            "\n",
            "\n",
            "\n"
          ]
        },
        {
          "output_type": "display_data",
          "data": {
            "image/png": "[encoded data removed]",
            "text/plain": [
              "<Figure size 1296x432 with 1 Axes>"
            ]
          },
          "metadata": {
            "needs_background": "light"
          }
        }
      ]
    },
    {
      "cell_type": "markdown",
      "metadata": {
        "id": "1Mno6dfm2QNv"
      },
      "source": [
        "The sales and customers were increased in the trial period when compared to the control store"
      ]
    },
    {
      "cell_type": "markdown",
      "metadata": {
        "id": "OUupGeNqtCIg"
      },
      "source": [
        "# **Selecting Control Store for Trial Store 88**"
      ]
    },
    {
      "cell_type": "code",
      "metadata": {
        "id": "-SvqeNijuQWK"
      },
      "source": [
        "cor_sales = cal_corr(pretrial, \"tot_sales\", 88,\"store_nbr\")\n",
        "mag_sales = cal_std_mag(pretrial, \"tot_sales\", 88,\"store_nbr\")\n",
        "\n",
        "cor_customer  = cal_corr(pretrial, \"customer\", 88, \"store_nbr\")\n",
        "mag_customer  = cal_std_mag(pretrial, \"customer\",88, \"store_nbr\")"
      ],
      "execution_count": null,
      "outputs": []
    },
    {
      "cell_type": "markdown",
      "metadata": {
        "id": "yFND9nzcuQWL"
      },
      "source": [
        "##### **Getting Total Sales Values**\n"
      ]
    },
    {
      "cell_type": "code",
      "metadata": {
        "id": "uHkvKUjBuQWL"
      },
      "source": [
        "comb_score = pd.merge(cor_sales,mag_sales[[\"Magnitude\",\"nStores\"]],on=\"nStores\",how=\"right\")\n",
        "comb_score.head()"
      ],
      "execution_count": null,
      "outputs": []
    },
    {
      "cell_type": "markdown",
      "metadata": {
        "id": "zYZ_BUT5uyXp"
      },
      "source": [
        "Calculating the average measure"
      ]
    },
    {
      "cell_type": "code",
      "metadata": {
        "id": "WvtMsZ4muyXp"
      },
      "source": [
        "#0.5 is nothing but a threshold \n",
        "comb_score[\"avg_sales_measure\"] = 0.5 * comb_score[\"Correlation\"] + 0.5 * comb_score[\"Magnitude\"]\n",
        "Sales_avg_measure = comb_score.sort_values(by = \"avg_sales_measure\",ascending=False,ignore_index=True)\n",
        "Sales_avg_measure.head()"
      ],
      "execution_count": null,
      "outputs": []
    },
    {
      "cell_type": "markdown",
      "metadata": {
        "id": "Z8RxnY6vuyXp"
      },
      "source": [
        "##### **Getting Customer Values**"
      ]
    },
    {
      "cell_type": "code",
      "metadata": {
        "id": "yo6lDv9RuyXq"
      },
      "source": [
        "Mcomb_score = pd.merge(cor_customer,mag_customer[[\"Magnitude\",\"nStores\"]],on=\"nStores\",how=\"right\")\n",
        "Mcomb_score.head()"
      ],
      "execution_count": null,
      "outputs": []
    },
    {
      "cell_type": "markdown",
      "metadata": {
        "id": "F8TPDbtAuyXq"
      },
      "source": [
        "Calculating the Average Measure"
      ]
    },
    {
      "cell_type": "code",
      "metadata": {
        "id": "PkqSC2dRuyXq"
      },
      "source": [
        "Mcomb_score[\"avg_cust_measure\"] = 0.5 * Mcomb_score[\"Correlation\"] + 0.5 * Mcomb_score[\"Magnitude\"]\n",
        "Cstmr_avg_measure = Mcomb_score.sort_values(by = \"avg_cust_measure\",ascending=False,ignore_index=True)\n",
        "Cstmr_avg_measure.head()"
      ],
      "execution_count": null,
      "outputs": []
    },
    {
      "cell_type": "markdown",
      "metadata": {
        "id": "aoSnF4eyuyXq"
      },
      "source": [
        "###### **Getting Final Control Score**"
      ]
    },
    {
      "cell_type": "code",
      "metadata": {
        "id": "CY3Qy1wvuyXq"
      },
      "source": [
        "control_stores = pd.merge(Sales_avg_measure[[\"Trail Store\",\"nStores\",\"avg_sales_measure\"]],Cstmr_avg_measure[[\"nStores\",\"avg_cust_measure\"]],on=\"nStores\",how=\"right\")\n",
        "control_stores.head()"
      ],
      "execution_count": null,
      "outputs": []
    },
    {
      "cell_type": "code",
      "metadata": {
        "id": "tkguHjLCuyXr"
      },
      "source": [
        "control_stores[\"final_score\"] = 0.5 * control_stores[\"avg_sales_measure\"] + 0.5 * control_stores[\"avg_cust_measure\"]\n",
        "control_stores = control_stores.sort_values(by=\"final_score\", ascending = False,ignore_index=True)\n",
        "control_stores.head()"
      ],
      "execution_count": null,
      "outputs": []
    },
    {
      "cell_type": "markdown",
      "metadata": {
        "id": "udstDTqUvD7b"
      },
      "source": [
        "### **The Control Store for Trial Store 88 is Store Number 188**"
      ]
    },
    {
      "cell_type": "markdown",
      "metadata": {
        "id": "Y0Jl6DyPwrn5"
      },
      "source": [
        "##### **Visualizing The Number of Sales and Customers Per Month for Control Store 188 & Trial Store 88**"
      ]
    },
    {
      "cell_type": "code",
      "metadata": {
        "colab": {
          "base_uri": "https://localhost:8080/",
          "height": 892
        },
        "id": "z1VMi0Y_wrn6",
        "outputId": "0f6da123-88ab-488b-d031-0b6bc41df11e"
      },
      "source": [
        "sales_cust(\"tot_sales\",\"Number of Sales\",\"Number of Sales per Month\")\n",
        "sales_cust(\"customer\",\"Number of Customers\",\"Number of Customers per Month\")"
      ],
      "execution_count": 43,
      "outputs": [
        {
          "output_type": "stream",
          "name": "stdout",
          "text": [
            "\n",
            "\n",
            "\n"
          ]
        },
        {
          "output_type": "display_data",
          "data": {
            "image/png": "[encoded data removed]",
            "text/plain": [
              "<Figure size 1296x432 with 1 Axes>"
            ]
          },
          "metadata": {
            "needs_background": "light"
          }
        },
        {
          "output_type": "stream",
          "name": "stdout",
          "text": [
            "\n",
            "\n",
            "\n"
          ]
        },
        {
          "output_type": "display_data",
          "data": {
            "image/png": "[encoded data removed]",
            "text/plain": [
              "<Figure size 1296x432 with 1 Axes>"
            ]
          },
          "metadata": {
            "needs_background": "light"
          }
        }
      ]
    },
    {
      "cell_type": "markdown",
      "metadata": {
        "id": "asXnrI0G2ScN"
      },
      "source": [
        "The sales and customers were increased in the trial period when compared to the control store\n"
      ]
    },
    {
      "cell_type": "markdown",
      "metadata": {
        "id": "CQIqrJ262T5U"
      },
      "source": [
        "# **Conlcution:**\n",
        "\n",
        "The new trial layouts has a huge impact on the customers and sales section the Category chip manager can implement the new layout in the other stores. When compared to the customers visits the sales were some what less. So the manager can provide some discounts for certian products of chips which were performing low."
      ]
    },
    {
      "cell_type": "markdown",
      "metadata": {
        "id": "FEb0AUZb56Cn"
      },
      "source": [
        "# **Thank You**"
      ]
    }
  ]
}